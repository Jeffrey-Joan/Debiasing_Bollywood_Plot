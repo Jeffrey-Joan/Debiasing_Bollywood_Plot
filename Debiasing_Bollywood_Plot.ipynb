{
  "nbformat": 4,
  "nbformat_minor": 0,
  "metadata": {
    "colab": {
      "name": "Debiasing_Bollywood_Plot.ipynb",
      "provenance": []
    },
    "kernelspec": {
      "name": "python3",
      "display_name": "Python 3"
    },
    "language_info": {
      "name": "python"
    }
  },
  "cells": [
    {
      "cell_type": "markdown",
      "metadata": {
        "id": "G9HDFyS7d5jY"
      },
      "source": [
        "#INTRODUCTION"
      ]
    },
    {
      "cell_type": "markdown",
      "metadata": {
        "id": "PvTdewOTeC98"
      },
      "source": [
        "In this notebook , we will be removing the gender bias present in the [bollywood plot dataset](https://raw.githubusercontent.com/BollywoodData/Bollywood-Data/master/wikipedia-data/coref_plot.csv) . The notebook uses the techniques and methodology used in the paper : [Man is to Computer Programmer as Woman is to Homemaker? Debiasing Word Embeddings](https://papers.nips.cc/paper/2016/file/a486cd07e4ac3d270571622f4f316ec5-Paper.pdf) . Also, this [blog](https://towardsdatascience.com/tackling-gender-bias-in-word-embeddings-c965f4076a10) gives a clear brief of the paper mentioned above ."
      ]
    },
    {
      "cell_type": "markdown",
      "metadata": {
        "id": "knQpRNoAfH7F"
      },
      "source": [
        "We import the necessary libraries ."
      ]
    },
    {
      "cell_type": "code",
      "metadata": {
        "id": "m4xFYOS7StdM"
      },
      "source": [
        "import pandas as pd\n",
        "import numpy as np\n",
        "import csv\n",
        "import string\n",
        "import re\n",
        "import warnings\n",
        "warnings.filterwarnings(\"ignore\", category=DeprecationWarning) "
      ],
      "execution_count": 1,
      "outputs": []
    },
    {
      "cell_type": "code",
      "metadata": {
        "id": "RuQtg1PusTI2"
      },
      "source": [
        "import gensim\n",
        "import nltk\n",
        "from gensim import corpora, models, similarities\n",
        "from nltk import word_tokenize"
      ],
      "execution_count": 2,
      "outputs": []
    },
    {
      "cell_type": "code",
      "metadata": {
        "colab": {
          "base_uri": "https://localhost:8080/"
        },
        "id": "6sT9uay8tlQc",
        "outputId": "6e66e256-a5ce-4f93-98f5-850d11eebbdb"
      },
      "source": [
        "nltk.download('punkt')\n",
        "nltk.download('stopwords')"
      ],
      "execution_count": 3,
      "outputs": [
        {
          "output_type": "stream",
          "name": "stdout",
          "text": [
            "[nltk_data] Downloading package punkt to /root/nltk_data...\n",
            "[nltk_data]   Package punkt is already up-to-date!\n",
            "[nltk_data] Downloading package stopwords to /root/nltk_data...\n",
            "[nltk_data]   Package stopwords is already up-to-date!\n"
          ]
        },
        {
          "output_type": "execute_result",
          "data": {
            "text/plain": [
              "True"
            ]
          },
          "metadata": {},
          "execution_count": 3
        }
      ]
    },
    {
      "cell_type": "markdown",
      "metadata": {
        "id": "V9mgddXcfzgZ"
      },
      "source": [
        "Read the data from [Bollywood-Data](https://github.com/BollywoodData/Bollywood-Data) ."
      ]
    },
    {
      "cell_type": "code",
      "metadata": {
        "id": "Lfm15LXES2TJ"
      },
      "source": [
        "data = pd.read_csv('https://raw.githubusercontent.com/BollywoodData/Bollywood-Data/master/wikipedia-data/coref_plot.csv')"
      ],
      "execution_count": 4,
      "outputs": []
    },
    {
      "cell_type": "code",
      "metadata": {
        "colab": {
          "base_uri": "https://localhost:8080/"
        },
        "id": "q-qkyeeGS9To",
        "outputId": "60c886c0-846e-4523-a3ce-a1b552e42c22"
      },
      "source": [
        "data.shape"
      ],
      "execution_count": 5,
      "outputs": [
        {
          "output_type": "execute_result",
          "data": {
            "text/plain": [
              "(34728, 3)"
            ]
          },
          "metadata": {},
          "execution_count": 5
        }
      ]
    },
    {
      "cell_type": "code",
      "metadata": {
        "colab": {
          "base_uri": "https://localhost:8080/",
          "height": 204
        },
        "id": "ydCMfYbchem1",
        "outputId": "880b3270-3443-458f-b4ac-3f190cdce118"
      },
      "source": [
        "data.head()"
      ],
      "execution_count": 6,
      "outputs": [
        {
          "output_type": "execute_result",
          "data": {
            "text/html": [
              "<div>\n",
              "<style scoped>\n",
              "    .dataframe tbody tr th:only-of-type {\n",
              "        vertical-align: middle;\n",
              "    }\n",
              "\n",
              "    .dataframe tbody tr th {\n",
              "        vertical-align: top;\n",
              "    }\n",
              "\n",
              "    .dataframe thead th {\n",
              "        text-align: right;\n",
              "    }\n",
              "</style>\n",
              "<table border=\"1\" class=\"dataframe\">\n",
              "  <thead>\n",
              "    <tr style=\"text-align: right;\">\n",
              "      <th></th>\n",
              "      <th>Unnamed: 0</th>\n",
              "      <th>Movie Name</th>\n",
              "      <th>Coref Plot</th>\n",
              "    </tr>\n",
              "  </thead>\n",
              "  <tbody>\n",
              "    <tr>\n",
              "      <th>0</th>\n",
              "      <td>0</td>\n",
              "      <td>Aan Milo Sajna</td>\n",
              "      <td>Widowed and ailing Savitri Choudhury lives a ...</td>\n",
              "    </tr>\n",
              "    <tr>\n",
              "      <th>1</th>\n",
              "      <td>1</td>\n",
              "      <td>Aan Milo Sajna</td>\n",
              "      <td>Savitri knows that Anil is only waiting for S...</td>\n",
              "    </tr>\n",
              "    <tr>\n",
              "      <th>2</th>\n",
              "      <td>2</td>\n",
              "      <td>Aan Milo Sajna</td>\n",
              "      <td>The Diwan convinces Anil to mend Anil ways  g...</td>\n",
              "    </tr>\n",
              "    <tr>\n",
              "      <th>3</th>\n",
              "      <td>3</td>\n",
              "      <td>Aan Milo Sajna</td>\n",
              "      <td>Shortly thereafter Anil does appear to have m...</td>\n",
              "    </tr>\n",
              "    <tr>\n",
              "      <th>4</th>\n",
              "      <td>4</td>\n",
              "      <td>Aan Milo Sajna</td>\n",
              "      <td>Deepali moves in the mansion  looks after Sav...</td>\n",
              "    </tr>\n",
              "  </tbody>\n",
              "</table>\n",
              "</div>"
            ],
            "text/plain": [
              "   Unnamed: 0  ...                                         Coref Plot\n",
              "0           0  ...   Widowed and ailing Savitri Choudhury lives a ...\n",
              "1           1  ...   Savitri knows that Anil is only waiting for S...\n",
              "2           2  ...   The Diwan convinces Anil to mend Anil ways  g...\n",
              "3           3  ...   Shortly thereafter Anil does appear to have m...\n",
              "4           4  ...   Deepali moves in the mansion  looks after Sav...\n",
              "\n",
              "[5 rows x 3 columns]"
            ]
          },
          "metadata": {},
          "execution_count": 6
        }
      ]
    },
    {
      "cell_type": "markdown",
      "metadata": {
        "id": "z007O5d5hqjD"
      },
      "source": [
        "We only need the \"Coref Plot\" column ."
      ]
    },
    {
      "cell_type": "code",
      "metadata": {
        "id": "5VwKV69nTSVm"
      },
      "source": [
        "df = data['Coref Plot']"
      ],
      "execution_count": 7,
      "outputs": []
    },
    {
      "cell_type": "code",
      "metadata": {
        "id": "J2ZqUfdrdbMm"
      },
      "source": [
        "def no_uniquewords(df):\n",
        "  unique_words =[]\n",
        "  for count,line in enumerate (df):\n",
        "    line = line.strip().split()\n",
        "    for word in line:\n",
        "      if word not in unique_words:\n",
        "        unique_words.append(word)\n",
        "  print(\"The number of unique words are : \",len(unique_words))"
      ],
      "execution_count": 8,
      "outputs": []
    },
    {
      "cell_type": "markdown",
      "metadata": {
        "id": "v_rxycyJjFVE"
      },
      "source": [
        "We calculate the number of unique words because later on, we will set the hyperparameter min_count of the gensim model as 1 . Therefore, the length of the vocabulary of the model should be equal to the number of unique words ."
      ]
    },
    {
      "cell_type": "code",
      "metadata": {
        "colab": {
          "base_uri": "https://localhost:8080/"
        },
        "id": "P5hzRFSQK_-Y",
        "outputId": "8f1e8cda-1cdf-40c9-9fb2-f0225f3cac36"
      },
      "source": [
        "words = []\n",
        "for count,line in enumerate (df):\n",
        "  line = line.strip().split()\n",
        "  for word in line:\n",
        "    words.append(word)\n",
        "len(words)"
      ],
      "execution_count": 9,
      "outputs": [
        {
          "output_type": "execute_result",
          "data": {
            "text/plain": [
              "646995"
            ]
          },
          "metadata": {},
          "execution_count": 9
        }
      ]
    },
    {
      "cell_type": "markdown",
      "metadata": {
        "id": "Oh8P1C3BoZNB"
      },
      "source": [
        "#Preprocessing / Cleaning the data"
      ]
    },
    {
      "cell_type": "markdown",
      "metadata": {
        "id": "peCUYntQokzx"
      },
      "source": [
        "We clean the data by making all the strings into lowercase and removing punctuations ."
      ]
    },
    {
      "cell_type": "code",
      "metadata": {
        "colab": {
          "base_uri": "https://localhost:8080/"
        },
        "id": "nFT_l8ZktKHk",
        "outputId": "837417d9-7c46-4b61-805f-d3a504ccc0db"
      },
      "source": [
        "df[:2]"
      ],
      "execution_count": 10,
      "outputs": [
        {
          "output_type": "execute_result",
          "data": {
            "text/plain": [
              "0     Widowed and ailing Savitri Choudhury lives a ...\n",
              "1     Savitri knows that Anil is only waiting for S...\n",
              "Name: Coref Plot, dtype: object"
            ]
          },
          "metadata": {},
          "execution_count": 10
        }
      ]
    },
    {
      "cell_type": "code",
      "metadata": {
        "colab": {
          "base_uri": "https://localhost:8080/"
        },
        "id": "kLou_NMgELmV",
        "outputId": "f275bb27-5166-4e64-e65c-d13df0bd10e7"
      },
      "source": [
        "l_sentence = [sentence.lower() for sentence in df]\n",
        "l_sentence[:2]"
      ],
      "execution_count": 11,
      "outputs": [
        {
          "output_type": "execute_result",
          "data": {
            "text/plain": [
              "[' widowed and ailing savitri choudhury lives a wealthy lifestyle along with savitri son  anil  in a palatial mansion in india',\n",
              " ' savitri knows that anil is only waiting for savitri to die so that anil can inherit the wealth and refuses to give anil any money']"
            ]
          },
          "metadata": {},
          "execution_count": 11
        }
      ]
    },
    {
      "cell_type": "markdown",
      "metadata": {
        "id": "UTXsTn4etRD9"
      },
      "source": [
        "Great, we've made all the words into lowercase ."
      ]
    },
    {
      "cell_type": "code",
      "metadata": {
        "colab": {
          "base_uri": "https://localhost:8080/"
        },
        "id": "Wx0pNPoIB3of",
        "outputId": "54d71b60-dc3b-4276-b0db-49b71e2b1447"
      },
      "source": [
        "table = str.maketrans('', '', string.punctuation)\n",
        "stripped = [a.translate(table) for a in l_sentence]\n",
        "stripped[:2]"
      ],
      "execution_count": 12,
      "outputs": [
        {
          "output_type": "execute_result",
          "data": {
            "text/plain": [
              "[' widowed and ailing savitri choudhury lives a wealthy lifestyle along with savitri son  anil  in a palatial mansion in india',\n",
              " ' savitri knows that anil is only waiting for savitri to die so that anil can inherit the wealth and refuses to give anil any money']"
            ]
          },
          "metadata": {},
          "execution_count": 12
        }
      ]
    },
    {
      "cell_type": "code",
      "metadata": {
        "colab": {
          "base_uri": "https://localhost:8080/"
        },
        "id": "C9wlMrrkFmP0",
        "outputId": "d0f3a26b-54f4-42ca-f40c-5f80262cb250"
      },
      "source": [
        "no_uniquewords(df)"
      ],
      "execution_count": 13,
      "outputs": [
        {
          "output_type": "stream",
          "name": "stdout",
          "text": [
            "The number of unique words are :  26743\n"
          ]
        }
      ]
    },
    {
      "cell_type": "code",
      "metadata": {
        "colab": {
          "base_uri": "https://localhost:8080/"
        },
        "id": "N3DjkX8ZPDUe",
        "outputId": "81f15a5c-8115-4a68-8d63-c9cc282a8738"
      },
      "source": [
        "no_uniquewords(stripped)"
      ],
      "execution_count": 14,
      "outputs": [
        {
          "output_type": "stream",
          "name": "stdout",
          "text": [
            "The number of unique words are :  24447\n"
          ]
        }
      ]
    },
    {
      "cell_type": "markdown",
      "metadata": {
        "id": "zqi-OxsZtf1L"
      },
      "source": [
        "The number of unique words has decreased because of making all the words into lowercase ."
      ]
    },
    {
      "cell_type": "markdown",
      "metadata": {
        "id": "Nhu6OZ9htv7n"
      },
      "source": [
        "Now we will tokenize the sentence . Which generally means to split into seperate words . "
      ]
    },
    {
      "cell_type": "code",
      "metadata": {
        "id": "oz8ry9pFssFE"
      },
      "source": [
        "tok_corpus = [nltk.word_tokenize(sent) for sent in stripped]"
      ],
      "execution_count": 15,
      "outputs": []
    },
    {
      "cell_type": "code",
      "metadata": {
        "colab": {
          "base_uri": "https://localhost:8080/"
        },
        "id": "vCgc_2-quIYu",
        "outputId": "2a105307-65e1-46a7-9f2b-8597089e57c0"
      },
      "source": [
        "tok_corpus[:1]"
      ],
      "execution_count": 16,
      "outputs": [
        {
          "output_type": "execute_result",
          "data": {
            "text/plain": [
              "[['widowed',\n",
              "  'and',\n",
              "  'ailing',\n",
              "  'savitri',\n",
              "  'choudhury',\n",
              "  'lives',\n",
              "  'a',\n",
              "  'wealthy',\n",
              "  'lifestyle',\n",
              "  'along',\n",
              "  'with',\n",
              "  'savitri',\n",
              "  'son',\n",
              "  'anil',\n",
              "  'in',\n",
              "  'a',\n",
              "  'palatial',\n",
              "  'mansion',\n",
              "  'in',\n",
              "  'india']]"
            ]
          },
          "metadata": {},
          "execution_count": 16
        }
      ]
    },
    {
      "cell_type": "markdown",
      "metadata": {
        "id": "x2IFDEcLuGKJ"
      },
      "source": [
        "The above individual tokens belong to the first line of the plot dataset ."
      ]
    },
    {
      "cell_type": "markdown",
      "metadata": {
        "id": "uUMogwQW6TzG"
      },
      "source": [
        "Now we will take all the respective adjectives and verbs predominately associated with male and female ."
      ]
    },
    {
      "cell_type": "code",
      "metadata": {
        "colab": {
          "base_uri": "https://localhost:8080/"
        },
        "id": "X6NJa5I4qcsI",
        "outputId": "8e0028ac-ec8d-4425-b139-3683b1fab799"
      },
      "source": [
        "female_verb = pd.read_csv('https://raw.githubusercontent.com/BollywoodData/Bollywood-Data/master/wikipedia-data/female_verb.csv',\n",
        "                         error_bad_lines=False, header = None, warn_bad_lines=False)\n",
        "female_verb.shape"
      ],
      "execution_count": 17,
      "outputs": [
        {
          "output_type": "execute_result",
          "data": {
            "text/plain": [
              "(3519, 2)"
            ]
          },
          "metadata": {},
          "execution_count": 17
        }
      ]
    },
    {
      "cell_type": "code",
      "metadata": {
        "colab": {
          "base_uri": "https://localhost:8080/"
        },
        "id": "B7bsLhotXOls",
        "outputId": "2f156c8d-cd7e-4997-8a77-8d4ccdf8f55e"
      },
      "source": [
        "female_adj = pd.read_csv('https://raw.githubusercontent.com/BollywoodData/Bollywood-Data/master/wikipedia-data/female_adjectives.csv',\n",
        "                         error_bad_lines=False, header = None, warn_bad_lines=False)\n",
        "female_adj.shape"
      ],
      "execution_count": 18,
      "outputs": [
        {
          "output_type": "execute_result",
          "data": {
            "text/plain": [
              "(4859, 2)"
            ]
          },
          "metadata": {},
          "execution_count": 18
        }
      ]
    },
    {
      "cell_type": "code",
      "metadata": {
        "colab": {
          "base_uri": "https://localhost:8080/"
        },
        "id": "WAlzSIbXdHi4",
        "outputId": "e23f0080-3fbd-4812-8abc-633bd10daded"
      },
      "source": [
        "count = 0\n",
        "female_words =[]\n",
        "for i in female_adj[1]:\n",
        "  if i != '[]':\n",
        "    i = i.lower()\n",
        "    i = i.strip(']')\n",
        "    i = i.strip('[')\n",
        "    if i not in female_words:\n",
        "      female_words.append(i)\n",
        "      count =count +1\n",
        "print(count)"
      ],
      "execution_count": 19,
      "outputs": [
        {
          "output_type": "stream",
          "name": "stdout",
          "text": [
            "372\n"
          ]
        }
      ]
    },
    {
      "cell_type": "code",
      "metadata": {
        "colab": {
          "base_uri": "https://localhost:8080/"
        },
        "id": "ZrXKZUvErK3f",
        "outputId": "13f2a9ea-22a9-49f1-e559-0ce2a92f76ca"
      },
      "source": [
        "for i in female_verb[1]:\n",
        "  if i != '[]':\n",
        "    i = i.strip(']')\n",
        "    i = i.strip('[')\n",
        "    if i not in female_words:\n",
        "      female_words.append(i)\n",
        "      count =count +1\n",
        "print(count)"
      ],
      "execution_count": 20,
      "outputs": [
        {
          "output_type": "stream",
          "name": "stdout",
          "text": [
            "718\n"
          ]
        }
      ]
    },
    {
      "cell_type": "code",
      "metadata": {
        "colab": {
          "base_uri": "https://localhost:8080/"
        },
        "id": "q47Snx7496yY",
        "outputId": "223ff3aa-a36b-4946-fbf0-afc043515ee0"
      },
      "source": [
        "len(female_words)"
      ],
      "execution_count": 21,
      "outputs": [
        {
          "output_type": "execute_result",
          "data": {
            "text/plain": [
              "718"
            ]
          },
          "metadata": {},
          "execution_count": 21
        }
      ]
    },
    {
      "cell_type": "code",
      "metadata": {
        "id": "uDLWDQOXrdNd"
      },
      "source": [
        "male_adj = pd.read_csv('https://raw.githubusercontent.com/BollywoodData/Bollywood-Data/master/wikipedia-data/male_adjectives.csv',\n",
        "                         error_bad_lines=False, header = None, warn_bad_lines=False)"
      ],
      "execution_count": 22,
      "outputs": []
    },
    {
      "cell_type": "code",
      "metadata": {
        "id": "N0tO68-YuXlh"
      },
      "source": [
        "male_verb = pd.read_csv('https://raw.githubusercontent.com/BollywoodData/Bollywood-Data/master/wikipedia-data/male_verb.csv',\n",
        "                         error_bad_lines=False, header = None, warn_bad_lines=False)"
      ],
      "execution_count": 23,
      "outputs": []
    },
    {
      "cell_type": "code",
      "metadata": {
        "colab": {
          "base_uri": "https://localhost:8080/"
        },
        "id": "yFPCWmNLuPl-",
        "outputId": "961193b4-9b40-4795-f69b-81bb679b21ef"
      },
      "source": [
        "count = 0\n",
        "male_words =[]\n",
        "for i in male_adj[1]:\n",
        "  if i != '[]':\n",
        "    i = i.lower()\n",
        "    i = i.strip(']')\n",
        "    i = i.strip('[')\n",
        "    if i not in male_words:\n",
        "      male_words.append(i)\n",
        "      count =count +1\n",
        "print(count)"
      ],
      "execution_count": 24,
      "outputs": [
        {
          "output_type": "stream",
          "name": "stdout",
          "text": [
            "525\n"
          ]
        }
      ]
    },
    {
      "cell_type": "code",
      "metadata": {
        "colab": {
          "base_uri": "https://localhost:8080/"
        },
        "id": "Se969zAAukKD",
        "outputId": "8c1ebf3b-b436-4931-9854-27ad718d52d3"
      },
      "source": [
        "for i in male_verb[1]:\n",
        "  if i != '[]':\n",
        "    i = i.strip(']')\n",
        "    i = i.strip('[')\n",
        "    if i not in male_words:\n",
        "      male_words.append(i)\n",
        "      count =count +1\n",
        "print(count)"
      ],
      "execution_count": 25,
      "outputs": [
        {
          "output_type": "stream",
          "name": "stdout",
          "text": [
            "1038\n"
          ]
        }
      ]
    },
    {
      "cell_type": "code",
      "metadata": {
        "colab": {
          "base_uri": "https://localhost:8080/"
        },
        "id": "MHva2n8399nU",
        "outputId": "877b0dc6-32ae-4cf5-c17a-2bb53c8a979f"
      },
      "source": [
        "len(male_words)"
      ],
      "execution_count": 26,
      "outputs": [
        {
          "output_type": "execute_result",
          "data": {
            "text/plain": [
              "1038"
            ]
          },
          "metadata": {},
          "execution_count": 26
        }
      ]
    },
    {
      "cell_type": "markdown",
      "metadata": {
        "id": "pltj-wWc6Mlb"
      },
      "source": [
        "# word2vec"
      ]
    },
    {
      "cell_type": "markdown",
      "metadata": {
        "id": "Ki3uq8MxwE80"
      },
      "source": [
        "Now, we use the [models.word2vec](https://radimrehurek.com/gensim/models/word2vec.html) from [gensim](https://radimrehurek.com/gensim/intro.html)  to get the vector representation of the above words/tokens ."
      ]
    },
    {
      "cell_type": "code",
      "metadata": {
        "id": "SAKvrghbtHYd"
      },
      "source": [
        "model = gensim.models.Word2Vec(tok_corpus, min_count = 1, size=32)"
      ],
      "execution_count": 27,
      "outputs": []
    },
    {
      "cell_type": "code",
      "metadata": {
        "id": "5kpSic4mDAmN"
      },
      "source": [
        "vocabulary = model.wv.vocab"
      ],
      "execution_count": 28,
      "outputs": []
    },
    {
      "cell_type": "markdown",
      "metadata": {
        "id": "FTMj9m8Oxquh"
      },
      "source": [
        "The above code returns a dictionary of words and their respective vectors . The length of the dictionary should be equal to the number of unique words after data preprocessing ."
      ]
    },
    {
      "cell_type": "code",
      "metadata": {
        "colab": {
          "base_uri": "https://localhost:8080/"
        },
        "id": "DK3eNvHZ_tbZ",
        "outputId": "8e47ca8b-5ff3-4565-9864-a6d348fca90e"
      },
      "source": [
        "len(vocabulary)"
      ],
      "execution_count": 29,
      "outputs": [
        {
          "output_type": "execute_result",
          "data": {
            "text/plain": [
              "24447"
            ]
          },
          "metadata": {},
          "execution_count": 29
        }
      ]
    },
    {
      "cell_type": "code",
      "metadata": {
        "colab": {
          "base_uri": "https://localhost:8080/"
        },
        "id": "TKrNzL1vvT-h",
        "outputId": "bab251a4-fb74-4c25-8d9c-2f3d2f9b43bb"
      },
      "source": [
        "vocab_list = list()\n",
        "for i in vocabulary.keys():\n",
        "    vocab_list.append(i)\n",
        "len(vocab_list)"
      ],
      "execution_count": 30,
      "outputs": [
        {
          "output_type": "execute_result",
          "data": {
            "text/plain": [
              "24447"
            ]
          },
          "metadata": {},
          "execution_count": 30
        }
      ]
    },
    {
      "cell_type": "code",
      "metadata": {
        "colab": {
          "base_uri": "https://localhost:8080/"
        },
        "id": "IvAs7hR5vUZh",
        "outputId": "492b270a-09ea-4665-81da-9a632e8bccdd"
      },
      "source": [
        "common_female_list = []\n",
        "for value in female_words :\n",
        "  if value in vocab_list:\n",
        "    common_female_list.append(value)\n",
        "  else:\n",
        "    continue\n",
        "len(common_female_list)"
      ],
      "execution_count": 31,
      "outputs": [
        {
          "output_type": "execute_result",
          "data": {
            "text/plain": [
              "690"
            ]
          },
          "metadata": {},
          "execution_count": 31
        }
      ]
    },
    {
      "cell_type": "code",
      "metadata": {
        "colab": {
          "base_uri": "https://localhost:8080/"
        },
        "id": "1MZlllNmvUd5",
        "outputId": "fdc24f1b-a7eb-45c0-9534-f15be2663d06"
      },
      "source": [
        "common_male_list = []\n",
        "for value in male_words :\n",
        "  if value in vocab_list:\n",
        "    common_male_list.append(value)\n",
        "  else:\n",
        "    continue\n",
        "len(common_male_list)"
      ],
      "execution_count": 32,
      "outputs": [
        {
          "output_type": "execute_result",
          "data": {
            "text/plain": [
              "1004"
            ]
          },
          "metadata": {},
          "execution_count": 32
        }
      ]
    },
    {
      "cell_type": "code",
      "metadata": {
        "colab": {
          "base_uri": "https://localhost:8080/"
        },
        "id": "w8Bg_HEqvU42",
        "outputId": "047a3986-8024-48e4-f2da-114ac003476c"
      },
      "source": [
        "total_gender_based_words = []\n",
        "total_gender_based_words = common_female_list + common_male_list\n",
        "len(total_gender_based_words)"
      ],
      "execution_count": 33,
      "outputs": [
        {
          "output_type": "execute_result",
          "data": {
            "text/plain": [
              "1694"
            ]
          },
          "metadata": {},
          "execution_count": 33
        }
      ]
    },
    {
      "cell_type": "code",
      "metadata": {
        "id": "PmIzYPhgvVT6"
      },
      "source": [
        "definitional_pairs = [[\"woman\", \"man\"], [\"girl\", \"boy\"], [\"she\", \"he\"], \n",
        " [\"mother\", \"father\"], [\"daughter\", \"son\"], [\"gal\", \"guy\"], \n",
        " [\"female\", \"male\"], [\"her\", \"his\"], [\"herself\", \"himself\"]]"
      ],
      "execution_count": 34,
      "outputs": []
    },
    {
      "cell_type": "code",
      "metadata": {
        "colab": {
          "base_uri": "https://localhost:8080/"
        },
        "id": "rKldMEx0vVvk",
        "outputId": "8399d028-02d4-4660-ac99-af53275c007f"
      },
      "source": [
        "for i in definitional_pairs:\n",
        "  for a in i:\n",
        "    if a in total_gender_based_words:\n",
        "      print(a)"
      ],
      "execution_count": 35,
      "outputs": [
        {
          "output_type": "stream",
          "name": "stdout",
          "text": [
            "girl\n",
            "female\n"
          ]
        }
      ]
    },
    {
      "cell_type": "code",
      "metadata": {
        "id": "y5aDjMYVvWOf"
      },
      "source": [
        "common_female_list.remove('female')\n",
        "common_female_list.remove('girl')"
      ],
      "execution_count": 36,
      "outputs": []
    },
    {
      "cell_type": "code",
      "metadata": {
        "colab": {
          "base_uri": "https://localhost:8080/"
        },
        "id": "1EtJs7h_vWqu",
        "outputId": "40475c4a-0ed5-4121-80a7-c7eb7c20e44c"
      },
      "source": [
        "total_gender_based_words = []\n",
        "total_gender_based_words = common_female_list + common_male_list\n",
        "len(total_gender_based_words)"
      ],
      "execution_count": 37,
      "outputs": [
        {
          "output_type": "execute_result",
          "data": {
            "text/plain": [
              "1692"
            ]
          },
          "metadata": {},
          "execution_count": 37
        }
      ]
    },
    {
      "cell_type": "code",
      "metadata": {
        "id": "-xrocl3vvx-p"
      },
      "source": [
        "equalize_pairs = [[\"monastery\", \"convent\"], [\"spokesman\", \"spokeswoman\"], [\"Catholic_priest\", \"nun\"], [\"Dad\", \"Mom\"], [\"Men\", \"Women\"], \n",
        " [\"councilman\", \"councilwoman\"], [\"grandpa\", \"grandma\"], [\"grandsons\", \"granddaughters\"], [\"prostate_cancer\", \"ovarian_cancer\"], \n",
        " [\"testosterone\", \"estrogen\"], [\"uncle\", \"aunt\"], [\"wives\", \"husbands\"], [\"Father\", \"Mother\"], [\"Grandpa\", \"Grandma\"], [\"He\", \"She\"], \n",
        " [\"boy\", \"girl\"], [\"boys\", \"girls\"], [\"brother\", \"sister\"], [\"brothers\", \"sisters\"], [\"businessman\", \"businesswoman\"], [\"chairman\", \"chairwoman\"], \n",
        " [\"colt\", \"filly\"], [\"congressman\", \"congresswoman\"], [\"dad\", \"mom\"], [\"dads\", \"moms\"], [\"dudes\", \"gals\"], [\"ex_girlfriend\", \"ex_boyfriend\"], \n",
        " [\"father\", \"mother\"], [\"fatherhood\", \"motherhood\"], [\"fathers\", \"mothers\"], [\"fella\", \"granny\"], [\"fraternity\", \"sorority\"], [\"gelding\", \"mare\"], \n",
        " [\"gentleman\", \"lady\"], [\"gentlemen\", \"ladies\"], [\"grandfather\", \"grandmother\"], [\"grandson\", \"granddaughter\"], [\"he\", \"she\"], [\"himself\", \"herself\"],\n",
        " [\"his\", \"her\"], [\"king\", \"queen\"], [\"kings\", \"queens\"], [\"male\", \"female\"], [\"males\", \"females\"], [\"man\", \"woman\"], [\"men\", \"women\"], [\"nephew\", \"niece\"], \n",
        " [\"prince\", \"princess\"], [\"schoolboy\", \"schoolgirl\"], [\"son\", \"daughter\"], [\"sons\", \"daughters\"], [\"twin_brother\", \"twin_sister\"]]"
      ],
      "execution_count": 38,
      "outputs": []
    },
    {
      "cell_type": "code",
      "metadata": {
        "colab": {
          "base_uri": "https://localhost:8080/"
        },
        "id": "g1Cawv7uvyrX",
        "outputId": "2e528f34-7875-454a-d38e-75aeaa3e9ede"
      },
      "source": [
        "for i in equalize_pairs:\n",
        "  for a in i:\n",
        "    if a in total_gender_based_words:\n",
        "      print(a)"
      ],
      "execution_count": 39,
      "outputs": [
        {
          "output_type": "stream",
          "name": "stdout",
          "text": [
            "brother\n",
            "sister\n",
            "niece\n",
            "princess\n",
            "schoolgirl\n"
          ]
        }
      ]
    },
    {
      "cell_type": "code",
      "metadata": {
        "id": "E0JxuYw_vzOZ"
      },
      "source": [
        "common_female_list.remove('sister')\n",
        "common_male_list.remove('sister')\n",
        "common_female_list.remove('niece')\n",
        "common_female_list.remove('princess')\n",
        "common_female_list.remove('schoolgirl')\n",
        "common_female_list.remove('brother')"
      ],
      "execution_count": 40,
      "outputs": []
    },
    {
      "cell_type": "code",
      "metadata": {
        "colab": {
          "base_uri": "https://localhost:8080/"
        },
        "id": "dgPwm3G5vzxX",
        "outputId": "f0fc97f0-0a28-49e1-9a28-db61ca92bad4"
      },
      "source": [
        "total_gender_based_words = []\n",
        "total_gender_based_words = common_female_list + common_male_list\n",
        "len(total_gender_based_words)"
      ],
      "execution_count": 41,
      "outputs": [
        {
          "output_type": "execute_result",
          "data": {
            "text/plain": [
              "1686"
            ]
          },
          "metadata": {},
          "execution_count": 41
        }
      ]
    },
    {
      "cell_type": "markdown",
      "metadata": {
        "id": "ohUs-hr1w_4K"
      },
      "source": [
        "We have removed gender-specific words from the adjective/verb list ."
      ]
    },
    {
      "cell_type": "code",
      "metadata": {
        "id": "AU3BKRv4xhG2"
      },
      "source": [
        "x_pair = []\n",
        "for pair in equalize_pairs:\n",
        "  if pair[0] in vocab_list and pair[1] in vocab_list:\n",
        "    x_pair.append(pair)"
      ],
      "execution_count": 42,
      "outputs": []
    },
    {
      "cell_type": "code",
      "metadata": {
        "colab": {
          "base_uri": "https://localhost:8080/"
        },
        "id": "fXuwYdcVzeC2",
        "outputId": "7fb2a0a2-60b5-43bf-c0a4-4642e687c3f7"
      },
      "source": [
        "len(equalize_pairs)"
      ],
      "execution_count": 43,
      "outputs": [
        {
          "output_type": "execute_result",
          "data": {
            "text/plain": [
              "52"
            ]
          },
          "metadata": {},
          "execution_count": 43
        }
      ]
    },
    {
      "cell_type": "code",
      "metadata": {
        "colab": {
          "base_uri": "https://localhost:8080/"
        },
        "id": "r-DL3EY-xhfW",
        "outputId": "ef5cf339-eab6-419f-d191-115d92f0fb3e"
      },
      "source": [
        "len(x_pair)"
      ],
      "execution_count": 44,
      "outputs": [
        {
          "output_type": "execute_result",
          "data": {
            "text/plain": [
              "31"
            ]
          },
          "metadata": {},
          "execution_count": 44
        }
      ]
    },
    {
      "cell_type": "code",
      "metadata": {
        "id": "1Ws6vXnm0Kp-"
      },
      "source": [
        "for pair in definitional_pairs:\n",
        "  if pair[0] in x_pair and pair[1] in x_pair: \n",
        "    print(pair)"
      ],
      "execution_count": 45,
      "outputs": []
    },
    {
      "cell_type": "code",
      "metadata": {
        "id": "giNl50ue0wza"
      },
      "source": [
        "gender_specific_pair = definitional_pairs + x_pair"
      ],
      "execution_count": 46,
      "outputs": []
    },
    {
      "cell_type": "code",
      "metadata": {
        "colab": {
          "base_uri": "https://localhost:8080/"
        },
        "id": "4it5XZwQ04RY",
        "outputId": "93d71ad3-6d87-43cf-da1c-3eb20ef95952"
      },
      "source": [
        "len(gender_specific_pair)"
      ],
      "execution_count": 47,
      "outputs": [
        {
          "output_type": "execute_result",
          "data": {
            "text/plain": [
              "40"
            ]
          },
          "metadata": {},
          "execution_count": 47
        }
      ]
    },
    {
      "cell_type": "markdown",
      "metadata": {
        "id": "qr41WHtNvPGQ"
      },
      "source": [
        "# Cosine similarity"
      ]
    },
    {
      "cell_type": "markdown",
      "metadata": {
        "id": "g2Cs23UDyE93"
      },
      "source": [
        "![cos_sim.png](data:image/png;base64,iVBORw0KGgoAAAANSUhEUgAAAq4AAAEICAIAAAARMOE/AAAyc0lEQVR42uzde1yM6f8/8PcYzarpLKVSltpSSjkUKVK2wsquw34cYp3WIofYdfrFyiEWixWLb6xlV1irZFeobKLCqhzKlqLsdhYdp5KmZub3qElLTa1qqpnm9fynw0x3133dh3nd131d191VIBAQAAAAyKouqAIAAABEAQAAAEAUAAAAAEQBAAAAQBQAAAAARAEAAABAFAAAAABEAQAAAEAUAAAAAEQBAAAAQBQAAAAARAEAAABAFAAAAABEAQAAAEAUAAAAAEQBAOgQgrKyMgGqAQAQBQBkFaM8ZM24JftDHpciEABAC84hAgFOHgDSgJca4nspuUrkawXRR/acSuDpjJyz1nPFPGcjRQbqCwDQKgAgmwSV3ErkewBAqwCATMk7v2RWmPEKD7QHAACiAIBMNgSUlb1UYLMRAgAAUQAAAACaC30FAAAAEAUAoM20zaB/Abcw82kuZhMAAEQBAIknvkH/RXEBB7etc5/pOmqIgfp76sM3RnHQPQAAxHCaQl8BADFoj0H/3MKMZ6VUHP2N25TDD0l+6qn0UzM0mKh7AGilrqgCgPYjHPTPalkWYKnp6atR2bMeLCKSG+Fo2x05AAAQBQAkBNPAxX25i8iX8s4vufKZzx4xDfrnp9wIeUKkPMhpqB5uDwAAogCAFDQEyLvsujxJXIP+BRl3rt7jEA12sTdETx8AQBQAkAIMNpsttoXx8m9ei6wk6v2h80A26hYAxALXFQBS5PmNy7fKiak5btRAxHgAQBQAkDkv48KuZhPpOI22UKDa2QVSMb0AACAKAEiSitwY/90rp7u6un7kPObjJUejC4oST29yn+nquC6kuHWLrrp//fJzHskPH2ffvSD66BIXkx7qeoYGPVV6Oa70T+ai7gGgRdDICCA2gtKHZ9YuWh1puPbQ7gA7XRa9TDvtMX1j6oCgvb5pGlNOmaq0avFl90P/SCOSG2GtGbxk3A/MyQt2/br0xc0ju7YHhe+bNo1Cr37nqIGtAACIAgAdEwO4Kb+udPM43c394nVPO3XhkaXQe+p8py2OW9IqSW6wk61Wq/5D7TBCJjsz8ETmN5fD7dRrRiW4OPQusZywL/XBwe+C1jjO0camAIBmwg0CAHEEgWeB7mPm+xZNPRNQlwNqMFW695Cr/jrI3k6P1ap/UTuMsJvmqHX71tbmgGqK1lOmGBFRZUR0PG4SAACiAEAH4MYdmL302D+GC33WuWi83dLGK85/UUkkb+hiZ9yliRaF00vsLc3sPU6nlDXyntfDCNU+9trgrPHWLAXdeupoYiMAAKIAQEcpS/y/DV6hz9Umrd7gol1/JqHnSfeelhMZfeJs2vgswZybB7ceiohLiDj45cE7laLfIxxGKKc/e95Ebbm3XypP/zuj+msf3Z644wcAiAIA7UyQc2HTpitFTKtlq8Y3CAK8vPDgsEoiTVuHgUqNL6OrmoZ6TVCQ19ZQFn1M1g4j1PvQ0Uy+QZLIySwmYmoOH/wBDmgAaD5cRAC0qkkg7sdD5wt5cvbTZw5pMD6An3T6SGg5EdvJcZhCEzMPsy1Xn7ra63ICmU6YPlhk48HrYYRWo20ajBF4mRAV8Zyo9/ixAxWwQQAAUQCgXfEeBp68zyO2mZOdQf0r8spngXt23igk0h47zvo/hhGy3neY7e7QeOCoHUY4eoxD/acS8zmRQUHPeUyLWQud0WMAAFoC7YkArZAVfzulnEhr+JA+9Y4lfvpZj+V+2UTiG0aoauNk3bPeS4L0oGMXM8h4ztYvrN7DkwoBAFEAoJ0bBXKz0nkifi8ouL51dbj2qA9eDyPswuXyW/xfaocRMi1dP+zz9qe9oCLmxK7z+Ubue3aM10EQAABEAYD2xlTv3qP6a05o8N3S2t9VFT74YcGMc4bei/pmZguHERrlXth88F5Lx/y/HkZoONLeWP7twBG+adn+NNv1J3eO1UAQAICWQl8BkEw1D9pJySpV1DU06KXGktQPOp3+Q/TlotLLU/e5jea4zxjQNTsm9EKK5Ta/XVP0o9wfFBFpGWnn+e1+Onr9Jy2dYKgkKf4Jl5iajjb9mW/UT/plr1kel8y/u7lvpqkiMj0AtBxDIMBDzUCiVORG//Kd93c/JzANdCg7/mGe3mQvX5+VtpoSGQeqCqK+nT51a2h2efVPyhZTVn69ZdUnJopMqopcZzh6Zxpf1e7Ln054TTBgtyIX5cX98v2uPWdiuzvOmmhnosxJigkLTdSa/KXHPGcjRbQHAACiAHQe3Ce/b1y2+MirqUf2bZhgoc4ibsrxmfaLzpV/eirhxIz6U+tITANGweOY2H/K2LoDLE16suuu3KsKH92OKdAcYmWkLp5WDW5havyDlHwuQ1FngKVZTzYyAAAgCkAnywHJp+ZPmh2ktyP811WWyq9/Wxi+coTjvjRL7/DY9UOYqCUAAHHDLUaQpBzgVzH9hyNf/ZsDiIit30eHqPTB79cfI7UCACAKQCfFebDfY6lfsvIET++J+qLbvZOepleiogAAEAWgE+KXRu38bF1IEdNq2frJvRvM2VeQX4A6AgBAFIDOqyLWZ9WhhzySGz13nlXD+XmfJ9zLQCUBALQdzCsgqwTFqTcuBQbfepSawVHW7aVn6fjJBBfLnqLGvlfkPrj624VrDzIyMziK+gbGVg7jJziYiuoVzytNuXbG78q9lMz893RN+lsMsRus+eB0eP9162wbm4O/MifAZ8+dIqK+s5Z+3LvhIqsykx4WVn8zoJ8hC5sNAACtAiCWGFAQufvjoVZrwwTmzv/7/IupAypv+bhPGDLMdduNAkG9d/75/SybfpOPPNUZPuF/8774xPhV+N65Y6zMnVb5p5TV+9AuiNr2kfWKq+wRc9dv37584gD+tfVOA4ct/DW9tPE5dyti/m/X79Uf9fofz/xQxNN0+AkRwWmVRExNcyNtbDkAgDb5VAAZw38R5G7ElrPeEJFf+fp3RVFrB9bsDvqfnvqbX/fWVzHf2muR2mTfx6X//n3FX76uekTENJjr9+SN3xdfXqynbL7xdsW/v6p8cWW5EbPv4uCCRsrCK/r985pn7ipaesdUiXjDy4RvR9UMINQcf/wpth0AQFvADQJZi37p51d6HHpstDZq1Qj1uq2vbGk7SJHul1L65ct3OTPer2nNL47evmzdjfKh3379+QdvzJTH6v/5gU2Xor74PfXnpUssB15cZlpzp6Dybuj5DPqgu8obrfhdNVyWfDU64kGjpcm69POlPKqZv1cp64+Q/AZvyAn+5R6PiOSsXR10G1+ryozTy2cc/qsZ9cAasyN4va0cdggAAPQVkLEgUBHz49YzqWS8cfKwN2/eM9gOn290/uP//ak2aZy5kvCtOUG7D8TwyNLF3rDebaQuvSeumL33930JRaE+e0KmHnPVIuIV5+RwiHPn1OnImV7/hgyGwaTZIxr7iBakXfnptxwiYvbtzUoK+S2pwd2BjIgf73Kqk8BwJwe9JnoKMFjd+5ibN2fyPTldzNcLAIAbBDKoNHrjYCJSnPd76X+8s+If3/HV18zyU0+9aNhyzy8Ldq+5sc/UmPdbkfBmQNTa3jW/UTaftSc4ueT1bQZ+6YvcUlFt/4KqF6em1jxoj23hfZcnqrT3vYfX3B3QcPZN5mPrAQC0DXQblCnZ928/rb6sf4/1X03j+bERcZXVV8/q3ZUbzvbLUDCxsKj+NS/v7sN/ajoFdrWZ7emiTcTjPDz51RhL41Hu+0MelwqIwdbQZIucL7jgdtifNc/w6fexs7GIHbHi7i8/3+cRkdq4LyYZtM81PENW4dgAkGWIAjKl6lV59Wcrv4L7XxP3FWWlFZNwgh8OT8TrPXsbCvsP/J31rEq4K5ksOBN0fLGNavUP5dkRhz2qA8GKEw/yRM8XzM+Iv1vTT0DRcoipQsOXOdd/Pf24nEjRYtnC8Rp4+AAAAKIAiE/p3fgU/ru9tbwgr5jX1Bv66Pas6xigNmjOofCk6FNfjzdi1gYCn7kOUzdHPReRBqpeZP1dRkRyo+yGNHzGnuCf8wf9M4hIbcKaRVbvtVfNyGzzIA4KAEQBkBGKGj1rruX/+uNqUrnIS3XOreAbBTwiVd3ewn6Fj+MSi5tYItus3/tv7UTvaVnN2PJ7dFLwnpnmajXtC9e85+8M5zSIHhnJDzlEJN93UL8G8wkIKmJ+3nc5l0hvwt5N0/772cTc1P3OzWsQV3EP4WJ/AAAgjCCQNd37W75P/jnEi/355zuLdoxSrJ8EHp347s7gM2OIug8ZaSF3KqOSsv+4Fl/uOlq+fmtBac19g96fTKwdisAN2f2t+uL1VjVRg6Fi6PLlz7ZOoxdP+9wvkfc4LPRhqaOtsqgiddPX7V6/9V+QFrD7eBxPTud/2w989sE7xFWmus18H5/xzdnxjQ0l9Z6D8M593ZV6vR8lbbEA0Bmg56RM4SV8O1T4ESg3fF1E7tvd8ksf+06z2XjzlbDnf7bfp2o1b1X7zL/BIIKq6I3GRKS3JLi4tu9/RbDH0Nd/++9Ig6zjrtUhQtQsQxXBi5VFvsTN8Z+rQ8Q0Xx327yRIMtdW39iPkrZYAMAIApAyXUzcNi2s6ftfeWvHhE+WHLn68FmZQFD2LO7S/s8/tN4s/9Xi2hvzDO0p23d8pEpEhec3744sfWsxxX8GXEymvv/bsdJJuW4X4j46sO9M2lvN7gwN7V5yRPJWdoMbNAmwTO2ctYnyHiY/ezOaclNOLl/ul2sw96fzXo7qaLUCAECrAIgbPz/ca6SWiF2hYTsBL/XcLNPq3MA0dfONKRC+xi9KOD7HgKk10is8n1/vIp+parf6t5S6OQsqX/y+UI+07L+NeSWqhaI4eIkekdzQ7fdeCRf06tmdQ24GqjrOW8NyXsl4D74WX77zS0tL+WgVAIDmnHZQBbKYBgruHvdw0Pn3Zrm8zkh33zvPRXyC8J/f8XUfqSNPxFQ2cHRb6DbOXEe1/6de/n+V8Ou19y/r239wf215UjZ2mrf+W59dX88dqaM6cOaB2/mNTQ/Ez430HqfDZCr3H79oxfL5k6119EYtPhyRUyHT8wm19jP7RYD7GHefN2Z5QhQAgKYx0G9IVvHKMuKiE19wicHq3s96sD67iWlmuHmPYh6kl/KImIo6ppZmOiJG/5UVFcupqMq9zH2cmPhPAZeIWD1MrS302E13z+MWPLoTfudhVqmCrqWNg7WRqGcfy5Z36t/HSw3xvZRcJXIBBdFH9pxK4OmMnLPWc8U8ZyPhFMvoNggAjcG9WJnFZOsNctB7t/eyNExsPzRp+gOMrVozuRBby9hKy/jdi8FSNxkx2WSEVH4eS8xiG7//V8mtFBALkwkCQJOnJlwWAEhUFGjtv847v2RWmPEKj7r2gI5JIQCAKACAKNAhUUBQVvZSgd3wDg6iAAA0BjcIADpXiGGz2agFAGgOzCsAAACAKAAAYiUoKytrp6Z3Abcw82luGRr6AQBRAECCMMpD1oxbsj/kcWmbfEQXxQUc3LbOfabrqCEG6u+pD98YxcEgAQBo+SkL/YYARBwYHTe4/x3ewy3MeFZKxdHfuE05/JDkp55KPzVDgymGNQIAmYRugwBtTPyD+1lqevpqVPasB4uI5EY42nZnopoBAFEAoN0xDVzcl7uIfCnv/JIrn/nsqT+4X5z4KTdCnhApD3IaqofbAwCAKAAgWQ0B8i67Lk9it+UntCDjztV7HKLBLvaG6PIDAIgCAJKl7Qf38/JvXousJOr9ofNAzCMAAK2CywkAafT8xuVb5cTUHDdqIPI8ACAKAMicl3FhV7OJdJxGWyhQ7ewCqZheAAAQBQA6TkVujP/uldNdXV0/ch7z8ZKj0QVFiac3uc90dVwXUizuf1Z1//rl5zySHz7OvntB9NElLiY91PUMDXqq9HJc6Z/MxdYAgOZA2yJAawlKH55Zu2h1pOHaQ7sD7HRZ9DLttMf0jakDgvb6pmlMOWWqIuZ/WHY/9I80IrkR1prBS8b9wJy8YNevS1/cPLJre1D4vmnTKPTqd44a2C4AgCgA0B4xgJvy60o3j9Pd3C9e97RTFx5QCr2nznfa4rglrZLkBjvZaon5f9YOI2SyMwNPZH5zOdxOvWaogotD7xLLCftSHxz8LmiN4xxtbBwAeDe4QQDQiiDwLNB9zHzfoqlnAupyQA2mSvcectVfB9nb6bHE/E9rhxF20xy1bt/a2hxQTdF6yhQjIqqMiI7HTQIAQKsAQJvjxh2YvfTYP4buQetcNN4+lHjF+S8qieQNXeyMxZy3Xw8jVPvYa4OzxltTF3TrqaOJzQIAaBUAaB9lif+3wSv0udqk1RtctOtPJvQ86d7TciKjT5xNxT0nsHAYoZz+7HkTteXefqk8/e+M6q99dHsi5AMAogBAmxLkXNi06UoR02rZqvENggAvLzw4rJJI09ZhoJKY/3HtMEK9Dx3N5Ou/xsnJLCZiag4f/AGObABAFABo0yaBuB8PnS/kydlNnzmkwfgAftLpI6HlRGwnx2EKYp58+PUwQqvRNg3GCLxMiIp4TtR7/NiBCthEAIAoANCGeA8DT97nEdvUyc6g/jFU+Sxwz84bhUTaY8dZt9UwwtFjHOo/lZjPiQwKes5jWsxa6IweAwCAKADQprLib6eUE2kNH9Kn3iHETz/rsdwvm6gthxGq2jhZ96z3kiA96NjFDDKes/ULq/fwpEIAQBQAaNNGgdysdJ6I3wsKrm9dHa496oPXwwi7cLl8Mf7f2mGETEvXD/u8/WkvqIg5set8vpH7nh3jdRAEAABRAKBtMdW796j+mhMafLe09ndVhQ9+WDDjnKH3or6Z2cJhhEa5FzYfvCe+Ef6vhxEajrQ3ln87goRvWrY/zXb9yZ1jNRAEAKCZMOQIoPl0+g/Rl4tKL0/d5zaa4z5jQNfsmNALKZbb/HZN0Y9yf1BEpGWknee3++no9Z+Ib4KhkqT4J1xiajra9P+3n4CAm37Za5bHJfPvbu6baaqIcA8AzcYQCPAsM4AGBwaj+uK67uio9yNRVUHUt9Onbg3NLq/+Sdliysqvt6z6xESRSVWR6wxH70zjq9p9+dMJrwkG7OYs9r/eI8iL++X7XXvOxHZ3nDXRzkSZkxQTFpqoNflLj3nORoqM1qwRACAKAEDzPjgF3ILHMbH/lLF1B1ia9GTXXadXFT66HVOgOcTKSJ3FaMHn8Tu8h1uYGv8gJZ/LUNQZYGnWk80QzxoBAKIAALTxB6eYooAErREAdAK4swgAAIAoAAAAAIgCAAAAgCgAAAAAiAIAAACAKAAAAACIAgAAAIAoAAAAAIgCAAAAgCgAAAAAnQ2eTAggQr0ZecU1QW8bLRYAAK0CAAAAgCgAAAAAiAIAAACAKAAAAACIAgAAAPAOGOjDDAAAIMvQKgAAAIAoAAAAAIgCAAAAgCgAAAAAiAIAAACAKAAAAACIAgAAAIAoAAAAAIgCAAAAgCgAAAAAiAIAAACAKAAAAACIAgAAACD1uqIKQAYFBQU9evTovffeQ1UANDRlyhQdHR3Ug+zAQ4pBFllZWcXGxqIeAERydHQMCwtDPSAKAHTq/Z7B0NXVDQwMRFUANNSvXz8lJSXUg+zADQKQOdnZ2URkZGRkZWWF2gAAQLdBkDmPHj0iorFjx6IqAAAQBUAWhYeHE9GgQYNQFQAAiAIgi4T9oUxMTFAVAACIAiCLMjIyiAhjpQAAEAVkEaNGYz+KZbHiWmYbKSkpycrKGjFiBHYGAAAhjCAA2ZKUlEREw4YNa91iqgrjfjt25sZTTlfNga7zZo/SZzEke71RYEDFQuMEIEvqbXRx7QNvLkfC96tdu3YR0YkTJ1qxjIq0c/MNmHXHEFN15ObI/EoJ3uwoMKBioSm4QQCyJS4ujohMTU1bvghO2A7v3JmXnlYI+BVpQetGahRFeLttvVEuseuMAgMqFpqEKACyJTo6WjjxcIvb0V7evvVqzQEvlz4sYrD0P9p2eNVQZmV6bEK2pDb8ocCAioWmoa8ANOdcUlb2UoHNluZ7i0+ePGndMEKGgsvWH99M04bmg9gUK99NTkLXGAUGVCygVQDEeC4pD1kzbsn+kMel0vnkipiYGOGUw+JcaH5ORrma3XjbXtJSCygwoGIBrQLwH3ipIb6XkqtEvlZQnPGzx5jjO0fOWeu5Yp6zkaJUtRBkZmYKn7omvkVWPDn3S1i/xaHzTKQkVqPAgIoFRAEQF0Elt1JAUjUSKSQkhIhsbGzEVgd5wTv3vlp9dpWdonScTlFgQMUCogC8A6aBi/tyF5Ev5Z1fcuUznz0eUtceIHT37l0i0tXVFc/i+E8DvvLlbvNdP1RNOtYfBQZULIjCqBsIDjKxvWvmAazb6PV+/O8riUa6Db65nOYusz0pKyt36dKlqKhIHFdVz6M2L/SWW+2/friidFwGosCAigXR0DQEzUkSbCkePpCdnV1SUiKeBxIKT6bkcdrz9cm09GHorZxmxx9+btzVqzdTOe109keBJfcyXdoqFjoX3CAAWfHo0SMiGjt2rDhOptMn+KkvXRbvdyCeSMDNT71zKbrHtovOzV1U1QPfKf97uPXPyOXKbXz2R4GVJXrvlLqKBUQBAGl0+/ZtIjI0NGzdYgqjt8903XytiGjrCv9/f62/8tpIDYlcbxQYULGAKAAtV5Ebc/Hk6YAbKaX8isquH0xev/VTxeB931++m9RraeAOFxWpWplbt26925TD/7HW1utDC9dL02ZCgXHAomIBUQBaQlD68MzaRasjDdce2h1gp8uil2mnPaZvTB0QtNc3TWPKKVMVaVuj+Ph4IjI2Nu5Ma40CAyoWEAWgTc4q3JRfV7p5nO7mfvG6p526cCdR6D11vtMWxy1plSQ32MlWq6ULr8w4vXzG4b+a8ResMTuC19u2bnLUkpKSrKysJp9N3KZrLXWbCQXGAQuIAiDL55Vnge5j5p9gzg+6WXdaqcFU6d5DjpLLmYPs7fRYLV08g9W9j7l5c8YhyOm2fg6DpKQkImri6QNtvNZSt5lkvMACbuGzQpamFpvZyBu4hZlFLF3NRgfUcAszC1m6Wu0x4Ebq9gRAFACJx407MHvpsX8M3YPWuWi8vXvwivNfVBLJG7rYGbd8FGpXLZc1h1zae7Xu3btHRPb29h201lK3mWS5wNx0f3fHacdS2cPWXri4w6FBlzr+U/85rtNOJrMtVl+I2OagXL/Q/PRf5jh+fjKVZbH2XMSO0cqoWJCCS0CQJfU2eoN9oDTBZ7wqMdU+9cvmN/jj7OPj5YjIYm1UcROLlcz9ys3NTfiEYlEvtnCtm6MixcepeUem8uLgisaWhgK3aYETfeyUm3pLio9d7SL6Lg4uaKokIv5e6ioWZAJaBeCNXJhzYdOmK0VMq42rxmvXb9nk5YUHh1USado6DFSSwMIHBgZOnDixsVejo6OJqF+/fh201kx1m/k+PuMbXF8mnfM8kf3Rlx4jNBu0nhgbMjtwM8lygXuYDenLjHrAI20bS30Rp8geJkOM2FGPy0jVzNJAoWG7Vw8zcyPm1cc8pqrNAIOu0l6xgFYBkK1WgdL73sOZRHL2Po95Df6S95ePvRoRsd38i5pcbPvvV9nZ2cLnDp8/f76JFdfT0xN5XdXitRaDiuDFysp2PonN+RsUuK0LLBBUpEWd/uH4xYcFfJEv8yvSo04f+eliQr7o1wVl6VFnjxwPuv/sVaetWOhccAcJ6q4iHgaevM8jtqmTnUH9/aLyWeCenTcKibTHjrNu3agkbup+Z0azqLiHcBtdnL+/v5GR0ePHj4lo8+bNIt+TnJxMRKKnHG6ntZa6zSTDBSYilr7t9Plzxpupie71x2Dp2U5f8Nl4U/VGegUq6Nn+b8Gcjyy13kPFglTADQJ4LSv+dko5Ud/hQ/rUO7Hw0896LPfLJhLHqKRGGkib2kkbbSBdvnz5gQMHHBwcCgoK4mqIvE2QmJhIRI6OjmJYa0FBYtCZgFIHz+mmTOnYTFWFcb8dO3PjKaer5kDXebNH6bfzc6WbXWABNzX4+6NXUjhdNYdOW/6ZtToDB2cHHrCAKAAy1SiQm5XOE3ULqeD61tXh2qM+oNOJNaOSunC5fBarxe1JTDWrqcutxFPm2NhYLy+vTZs2BQYGTpo0Sdgw0DAKXL9+nYj69+/fqrWuePHo/Pfe2w74JxQqLw5e20FRoJmbqaq2M3ztn+z38dt4MfDtIWeSVWB+QdT2ia77Mvtql8cl5hw+4hf5c9TRST2RBjrsgAWZgP0D6q7Wu/eo/poTGny3tO6C8sEPC2acM/Re1DczWzgqySj3wuaD97iSUeZbt25t2rSJiD788ENtbW0iiouLi4mJqfc2YZ9BkZMKNGetHzLNPj/yzSRFKdpMnLAd3rkzLz2tEPAr0oLWjdQoivB223qjXHILHL5td8W6uMzUuwlZz0NWmjNSTxzwe1SOw7NzHLCAVgGQeDr9h+jLRaWXp+5zG81xnzGga3ZM6IUUy21+u6boR7k/KCLSMtLO89v9dPT6TyRtvhIlJaV169Z5eHgQ0c6dO/39/d98NSEhQUVFRUdHp5VrbabelRQGWBLFS8dm+rjq9pZXaw54ubxffVGt/9G2w6vCB6y+E5uQTaMNJHO/6vbC/Xtbg14KRMRQt50+0fi7RByZnfCABYmDnpMYQfD6p8r8yO3OOvK1e4ayxRQv/8SSqppXItb2liNiqtqt/i2lVCBhIwiEOByOlpZWXTNA3e+zsrKIaMSIEY38XTPXumZMeVMjvdu8f3vLN1PNvyOmk2+adBQ429+tr8H8gBx+u48gaH/tVLGVBUkJ6RXVFcovSAwPiRF+D4AogChAb42Syk+KCgkOiXqYU1r11hkkMSIkKim/kROHJEQBgUDg4+Mj/O+TJ0+u++Uff/xBRKtXr27875qz1uKNAi3Uws1UM+eMmr3PXzwpKHBlfuTmkcaLfn9RicNWDBVbHLVvlqOBMpPYs/yLSp6cW26tyiRiG60IxfRDgCiAKCCej20JiQIcDqdHjx7CAiQlJQl/uXXr1qanHGgeiYgCLfPqsY+LvLlnZAlP0j/fcoK93ex0mEQkr+O8647EF1g61DQVyE85dvfcMpf5R+8/C1qsjFkHoBa6DULnoaSktGHDBuH3R48eretaSES9evWS9VuBecE7975afXSVnaKkH/WMni7rTwZePrlxSv9u2aFbvvj2zwrs3K3GT4gITlMcqHRr53WHE0c/N0+PvsbRsB1proyqAYwggE5m7ty56urqRLRnz57s7Gwiio+PJyIrKyvZ/hx4GvCVL3eb7/qhatJRYIaGxfRNp85uGClXGnctNhN7dmtxn96I+IsK78RqLdvxcU9G2b2gS8lywyYLu5QCogCqADpZw4CXl5fw+71795aUlGRlZZmZmcl2g8DzqC1f/WC04ZCbsVT1JGewTJ1cBypirxaHrKirD3hM61WHvrJT7EK8h0FnE+UcXF30MbYAEAWgkzYMqKioCBsGhH0GZbpJQPA8avNCb/I47Tm89kO19GHorRyB1KyAguWY4e9jt26lvNuXwvLVJi33sFUnIt69K2eT2Q6TR+mjTQAQBaCzNgwsW7ZM+P3SpUuJyNLSUlwL55eWlEhZDpg+wa+rtVq834H9+/f77PZa/umoBRdKukrmR4Cg4M5Pew8HxOXVJJWqgvCTfsXTvlloycRu3brdtvh2+PXyfrMXj6t5gGHN3QGm2dAu5zb88o8A1QOYYgg6pcWLF3t7exORsLuAjY2NOJZaFBdw6vdA/0QifsjBr/eWzvhiooVEd8ErjN4+03XztSKirSvemHNJf+W1kRqSmQReJV74Zs2OZJ5nX+uBBuzyco2xWy95jdHAaaqViu9du52nYeM4SPhkopfPMvOI8u7k2p2Zj74CUI1RN/oLZGJ7MxjCkX4ifxTLYsW1zFZatGiRr6+v8HsOh6OkhEe2S0c7Bjfj7vXEfAEp6FvbmKghBLRVJd94pmVvpYeeAoAogCjQmaNAdna2rq4uEamoqBQVFWHTAwA0Bn0FoHPS0dFxc3MjokGDBqE2AACagPY36LQOHz5cUlIifHQhAAA0BjcIAAAAZBpuEAAAACAKAAAAAKIAAAAAIAoAAAAAogAAAAAgCgAAAACiAAAAACAKAAAAAKIAAAAAIAoAAAAAogAAAAAgCgAAAACiAAAAACAKAAAAgDTriioAGeTr67to0SLUAwARWVhYPHjwAPWAKAAgWyIjI4loyJAhSkpKqA2QcWPHjkUlIAqADGEwGEQkEAhE/ihpi207f/31FxHFxMRglwAAYEjy+RoQBdquHvT09NLT07FLAACg2yDInOTkZCIaNGgQqgIAAFEAmkdQVlYm/a1IiYmJROTo6IgNCgCAKADNwygPWTNuyf6Qx6XSHAhu3rxJRDY2NtigAADoNgii8FJDfC8lV4l8raA442ePMcd3jpyz1nPFPGcjRYa0RgFdXV1sagAARAFoBUElt1JALOnLAgkJCSoqKjo6Oi1dQFVh3G/Hztx4yumqOdB13uxR+pJbCVJUVKkrrVRAlcI7ns9BltTb6M3eB14EuI9x9wlOLuGLdbHtKCsri4gcHBxauoCKtHPzDZh1BxBTdeTmyPxKiVxXKSqq1JVWKqBK4V2hrwA0JzjKu+y6fHC5i1TeFxASRoEhQ4a08O85YTu8c2deeloh4FekBa0bqVEU4e229Ua5BK6qFBVV6korFVCl8M4QBaAZGGw2W8rbF0NCQlrRZ1Dw8vatV2sOeLn0YRGDpf/RtsOrhjIr02MTsiUvtklPUaWutNKR21Gl8O7QVwBky61bt4jI1NS0ZVlIwWXrj29GaUPzQWyKle8mJ3mxTXqKKnWllY7cjioFtAqAeC4suIWZT3PLOtOElPHx8URkbGwsnrXOz8koV7Mbb9tL8jdQBxdV6krb6Y5QVCmgVQDeWVFcwKmgmIRHCYlJiXF3nyq5+d/xm8zuNKuXlZVlZmYmprWueHLul7B+i0PnmXSR9A3UIUWVutJ24iMUVQpNp0rACIK3ex0XpKelp8f7Lzavfk1+6qkXVW0+MKG9REdHE9HcuXMb9rVuwVrzX1yY39t+458F7dwtXHqKKnWllY5xAahSEDu0CkA9LDU9fTUqe9aDRURyIxxtuzM7zbrdu3ePiCwtLcWw1vynAV/5crf5rh+qJukbqMOKKnWl7aRHKKoUcIMAWoKfciPkCZHyIKehep1oSpLIyMimhg+8+1oLnkdt+eoHow3+bsYsCd9AHV5UqSttJztCUaXwDnDbCESdPTLuXL3HIfrAxd6wM+0iwmcS9uvXr1VrLXgetXmhN3mc9hyuKPxN6cPQWzkCCdxAElBUqSttpzpCUaWAVgFoKV7+zWuRlUS9P3QeyO5MKxYbG6unp6ekpNTyta4+t06f4Ke+dFm834F4IgE3P/XOpege2y46N/vCLjcuLL6071BbA+U22UBiLKp0lbblRW3nK3up2gGgk6dLQLfB+rL93fSImJqLr5S1z3zG7SIpKanJKYffZa0L7ng7qTY8ivRXXnvJb373r+DFysp2PonNX5V2L6p0lbblRW3n/n9StQMAug2CbHkZF3Y1m0jHabSFAgnHLmdlFMr17KMl1VMNZmZmEtHYsWNbsdZq1utDC9dLxQaSjKJKXWk7zxGKKoVmQF8BqK/q/vXLz3kkP3ycffeC6KNLXEx6qOsZGvRU6eW40j+ZK7XrFR4eTkSDBg2S9rWWrg3UWXcnVCkgCkAnVnY/9I80IrkR1prBS8atufv+Z7t+/f2Hr8cbUXb4vmnT1l7Lk9IVCwsLIyITExMpX2vp2kCddndClUJnghsE8LbaQUpMdmbgicxvLofbqdc0Obo49C6xnLAv9cHB74LWOM7Rbvk/qMw4vXzG4b+a8ResMTuC19u2eub0R48eEZGOjk5HrLUUbSAZLi2OUECrAMAbg5S6aY5at29t7VmmmqL1lClG1Z/kEdHxrWqCZLC69zFvFjPd1j8TuaSkpLi4eMSIER201lK0gWSztAJuYU5uGa/xN3ALM583Ndc/tzCzXZ7WIV07AKBVAKTR60FKah97bXDWeOsDuFtPHU2x7HJaLmsOubT3igmHDwwbNqyD1lqKNpAMlpab7u/uOO1YKnvY2gsXdzhoNLgQf+o/x3XayWS2xeoLEdsclOtfQfHTf5nj+PnJVJbF2nMRO0Yro0oBrQIgzZ7fuHyrnOT0Z8+bqF2vRb48/e+M6q99dHtKYYAMCQkhov79+3fEWnNT9zszGnpvzGEOJ8rDVMRLKu4h3I7aQFJUWnEVNfWCz7lUHhHnz8Pn7op4/e8gn5OJPOJx4n49d7u4YTH+vvDjydQyosK4wwG3udK+AwBaBUDG1Q5S6v2ho5l8/dc4OZnFREzN4YM/kLwA+fjx40WLFi1btmzixIki3xAbG0tEpqamHbHWTHWb+T4+4xtcayad8zyR/dGXHiMaXMx1NTZkdtQGkqLSiquoPcyG9GVGPeCRto2lvohzYg+TIUbsqMdlpGpmaaDQ8Czaw8zciHn1MY+pajPAoKu07wAgkzC1AqYYqvuxMmpt78aedVZ2ZbEmk6jvvN+fSdoUQ8ePH2cyq0+cFhYWjb3ngw8+aKxILV7r9p9hpsOKKl2lbcHUPRVpUad/OH7xYYHo2Xf4FelRp4/8dDEhv5HZecrSo84eOR50/9mrTrsDQKeG9Ah1Xg9SGj3GQaPeJQmfExkU9JzHtJi10LmV9yMbaSxtQqONpdUmT548d+5cFRUVIoqLiwsMDBT5tidPnpiZmXXcWkvRBpLJ0rL0bafPnzPeTE10B1UGS892+oLPxpuqN9KBVUHP9n8L5nxkqfUeqhRwgwCkWe0gJVUbJ+ue9duO0oOOXcwg4/lbv7B6r5W9+RtpLG1qJ22ksbQmB1y8ePH777/X0dGZNGkSEW3evLnhPYKYmBgiMjAwaNVaCwoSg84ElDp4TjdlSsEGqiqM++3YmRtPOV01B7rOmz1Kn8WQ1NIKuKnB3x+9ksLpqjl02vLPrNUZOBo78AgF3CAAGb5BwP/H11mOiDnq24SX9VpHX93xsmCyjdyDXvAl6xkESUlJycnJwu/rLvr/+OOPem87ceIEEfn4+Iho+X2Xtea9eHB645T+akSkvDi4ooPasZuzgSrSzs03+DewMFVHbo7Mr5TI0lbmR24eqarWd5CpdnWB2QbzA3L4HTW3v0Q/g6A1RygAbhDAu3g9SMlwpL3xWx2SBAXhm5btT7Ndf3LnWA0Ju94wNjY2MjISfr9gwQLhN4cPH673ttu3bxORjY1NS9e6Szezz498M0lRWjYQJ2yHd+7MS08rBPyKtKB1IzWKIrzdtt4ol8DScsK37a5YF5eZejch63nISnNG6okDfo/KcUB2jiMUpAWiAAiVJMU/4RJT09Gm/79XkwJu+iXPiV9cMv/u5qU11ooSvbfMnTtXS0uLiAICAoR3BOrcvXuXiPr169fCtWaoG5vrqZkOsJSODSR4efvWqzUHvFz6sIjB0v9o2+FVQ5mV6bEJ2RJY2m5m7t+vH6uvQEQMddvpE41xKHbWIxQkGfoKgJCq3Tchdy2+37XHY6CL46yJdibKnKSYsNBErcmel285GylK/NWGkpKSp6enh4cHEe3cudPf37/updjYWBUVFSUlJWle63cvKkPBZeuPb+Z9Q/NBbIqV7yYngaVlaRv0qvsrTnpqocEcz5km8jggW72vVhUmPy7tY6LHYggKH92IKTMYNViPhUYDEI1Rd2cXZGJ7MxjCu/gif6zBLUyNf5CSz2Uo6gywNOv5Ts8lfofFtst1U0mJgYHBixcviCg6OtrKyoqIkpOT+/Xr5+DgcO3atcb/9B3WOnX/CEOP+MXBLw65sDpyGzZ/A+WccO39ZcnuyGvL+3eR3NJWFURtn/h5zqqoA64auERpRZVybvos3XjgtxupvBn+WYcsrq53W3Awuqib0YrAmO+clFF/gFYBeAcsNYMhDgZSWXQlJaUNGzYIGwbOnj0rjAKZmZlENHbs2M6y1s0tasWTc7+E9VscOs+ki6SWVvAsZPsq70O/RGXz5FPc+moFfIW27pZXqbKtx4+bcgxH77ca1eeq59LgAb5Jvx0xGv/zCw4u+6AxON6gU5k7d666ujoR7dmzJzs7m4jCw8OJyNDQUDYrRJAXvHPvq9VHV9lJ8Icro6fL+pOBl09unNK/W3boli++/bMCu3Ir8BMigtMUByrd2nnd4cTRz83To69xNGxHmqNJABAFQCYoKSl5eXkJv9+7dy8RRURENDrlcOf/THga8JUvd5vv+qFqkl5UhobF9E2nzm4YKVcady02E7tyy3Gf3oj4iwrvxGot2/FxT0bZvaBLyXLDJru8j54CgCgAMtQwoKqqWtcwEB8fLxx2KHsNAs+jtnz1g9GGQ27GLOkoMYNl6uQ6UBH7cOtkRV19wGNarzr0lZ1iF+I9DDqbKOfg6qLPQtUAogDIUMOAp6en8PuNGzcWFxePGDFCFnPA5oXe5HHac3jtR2vpw9BbOdJwt1jBcszw97Eft1je7Uth+WqTlnvYqhMR796Vs8lsh8mj9NEmAIgCIFMWLVok/ObYsWPi6ijALy0pkaYcMH2CX1drtXi/A/v37/fZ7bX801ELLpR0lbSPA0HBnZ/2Hg6Iy6vJKFUF4Sf9iqd9s9CSiZ24pftp8e3w6+X9Zi8ep129sWvuDjDNhnY5t+GXf9BtEBqDEQTQORsGFi5c6OvrK/zR3t6+dcsrigs49XugfyIRP+Tg13tLZ3wx0UJye+EVRm+f6br5WhHR1hX/Tq5A+iuvjdSQtCTwKvHCN2t2JPM8+1oPNGCXl2uM3XrJawwGE7Zc8b1rt/M0bBwHqdT8+PJZZh5R3p1cuzPz0VcAGoV5BWRse7fNBAASMq/Am7Kzs3V1dYXf180xABLYgsHNuHs9MV9ACvrWNiZqCAHir94bz7TsrfTQUwAQBUDmogARzZw589SpU5JQEgAARAFAFOiYhgFLS0sDAwPh44gAAABRAGQrCgjTgFINbHoAAEQBkMUoAAAA/wmDCQEAABAFAAAAAFEAAAAAEAUAAAAAUQAAAABkBkYQAAAAyDS0CgAAACAKAAAAAKIAAAAAIAoAAAAAogAAAAAgCgAAAACiAAAAACAKAAAAAKIAAAAAIAoAAAAAogAAAAAgCgAAAACiAAAAACAKAAAAAKIAAAAAIAoAAAAAogAAAABIlf8fAAD//1EVslGva9P1AAAAAElFTkSuQmCC)\n",
        "[source](https://www.google.com/url?sa=i&url=https%3A%2F%2Fmedium.com%2Facing-ai%2Fwhat-is-cosine-similarity-matrix-f0819e674ad1&psig=AOvVaw0elYRXcR5OY-WU8125VnYO&ust=1630996233751000&source=images&cd=vfe&ved=0CAsQjRxqFwoTCOia3svc6fICFQAAAAAdAAAAABAJ)"
      ]
    },
    {
      "cell_type": "markdown",
      "metadata": {
        "id": "aunqAJ-9D-Rd"
      },
      "source": [
        "Using the above formula we can compute the cosine similarity ."
      ]
    },
    {
      "cell_type": "code",
      "metadata": {
        "id": "YknEJerBt-zD"
      },
      "source": [
        "def cos_similarity(a, b):\n",
        "    \n",
        "    distance = 0.0\n",
        "    \n",
        "    dot = np.dot(a, b)\n",
        "    norm_a = np.sqrt(np.sum(a**2))\n",
        "    norm_b = np.sqrt(np.sum(b**2))\n",
        "    cosine_similarity = dot / np.dot(norm_a, norm_b)\n",
        "    return cosine_similarity"
      ],
      "execution_count": 48,
      "outputs": []
    },
    {
      "cell_type": "code",
      "metadata": {
        "colab": {
          "base_uri": "https://localhost:8080/"
        },
        "id": "AVomurnM2ycg",
        "outputId": "18e4d602-f35d-4fd0-8bf1-f86b63a44a0e"
      },
      "source": [
        "cos_similarity(model['man'], model['nurse'])"
      ],
      "execution_count": 49,
      "outputs": [
        {
          "output_type": "execute_result",
          "data": {
            "text/plain": [
              "0.6708336"
            ]
          },
          "metadata": {},
          "execution_count": 49
        }
      ]
    },
    {
      "cell_type": "code",
      "metadata": {
        "colab": {
          "base_uri": "https://localhost:8080/"
        },
        "id": "gcjjOSP68d7r",
        "outputId": "ceac0462-2677-4be2-e2b5-8dae91d820e0"
      },
      "source": [
        "cos_similarity(model['woman'], model['nurse'])"
      ],
      "execution_count": 50,
      "outputs": [
        {
          "output_type": "execute_result",
          "data": {
            "text/plain": [
              "0.6742768"
            ]
          },
          "metadata": {},
          "execution_count": 50
        }
      ]
    },
    {
      "cell_type": "code",
      "metadata": {
        "colab": {
          "base_uri": "https://localhost:8080/"
        },
        "id": "B-mooHd54yBz",
        "outputId": "b00e764a-a71f-4179-ee0e-418319072a67"
      },
      "source": [
        "cos_similarity(model['man'], model['police'])"
      ],
      "execution_count": 51,
      "outputs": [
        {
          "output_type": "execute_result",
          "data": {
            "text/plain": [
              "0.37196463"
            ]
          },
          "metadata": {},
          "execution_count": 51
        }
      ]
    },
    {
      "cell_type": "code",
      "metadata": {
        "colab": {
          "base_uri": "https://localhost:8080/"
        },
        "id": "5eQKFkQP4yaV",
        "outputId": "ad3a21fd-bc87-498c-c8e4-8dcbf4f1a6eb"
      },
      "source": [
        "cos_similarity(model['woman'], model['police'])"
      ],
      "execution_count": 52,
      "outputs": [
        {
          "output_type": "execute_result",
          "data": {
            "text/plain": [
              "0.2207861"
            ]
          },
          "metadata": {},
          "execution_count": 52
        }
      ]
    },
    {
      "cell_type": "markdown",
      "metadata": {
        "id": "8lYxZta-50LA"
      },
      "source": [
        "It is clear to see that there are some bias between various professions ."
      ]
    },
    {
      "cell_type": "markdown",
      "metadata": {
        "id": "X8bKDfdZzaMx"
      },
      "source": [
        "#DE-BIASING"
      ]
    },
    {
      "cell_type": "markdown",
      "metadata": {
        "id": "E-wCXCffEw2R"
      },
      "source": [
        "We get the gender subspace by taking the difference of some pre-known sets that define the concept of gender itself."
      ]
    },
    {
      "cell_type": "code",
      "metadata": {
        "colab": {
          "base_uri": "https://localhost:8080/"
        },
        "id": "fJdWqG1Mymvb",
        "outputId": "d02dc777-4d54-4370-a19c-1323c17b225d"
      },
      "source": [
        "g = model['she'] - model['he']\n",
        "print(g)"
      ],
      "execution_count": 53,
      "outputs": [
        {
          "output_type": "stream",
          "name": "stdout",
          "text": [
            "[-0.15022397 -0.36410472  0.12115705 -0.57479024 -0.6781542   0.02643341\n",
            "  0.9866669   0.27514789 -0.89479566 -0.29735488 -0.3672576   0.52231145\n",
            " -0.55224794  0.5165409   0.27372408  0.8409364  -0.4166212   0.41390657\n",
            "  0.1347062   0.38773233 -0.63946235 -0.23170456  0.3776176   0.26264286\n",
            "  0.23797017 -0.2279861  -0.05141032  0.18843493  0.23714602 -0.28319764\n",
            "  0.7822075   0.43868303]\n"
          ]
        }
      ]
    },
    {
      "cell_type": "code",
      "metadata": {
        "colab": {
          "base_uri": "https://localhost:8080/"
        },
        "id": "FFmNdoZ9MYb3",
        "outputId": "19f064c0-287b-4c1c-c84f-b6ae0a6a606d"
      },
      "source": [
        "cos_similarity(model['she'],model['he'])"
      ],
      "execution_count": 54,
      "outputs": [
        {
          "output_type": "execute_result",
          "data": {
            "text/plain": [
              "0.9310884"
            ]
          },
          "metadata": {},
          "execution_count": 54
        }
      ]
    },
    {
      "cell_type": "code",
      "metadata": {
        "colab": {
          "base_uri": "https://localhost:8080/"
        },
        "id": "Bj7VBha9zpYc",
        "outputId": "4d593dfb-e463-4d6d-fc2e-75417a66c286"
      },
      "source": [
        "print ('List of names and their similarities with their respective vector:')\n",
        "\n",
        "character_name_list = [ 'naina', 'sudhir', 'chanda', 'vikram', 'seema', 'naresh']\n",
        "\n",
        "for w in character_name_list:\n",
        "    print (w, cos_similarity(model[w], g))"
      ],
      "execution_count": 55,
      "outputs": [
        {
          "output_type": "stream",
          "name": "stdout",
          "text": [
            "List of names and their similarities with their respective vector:\n",
            "naina 0.11402715\n",
            "sudhir -0.14249149\n",
            "chanda -0.01129543\n",
            "vikram -0.13861333\n",
            "seema 0.09500269\n",
            "naresh -0.034724154\n"
          ]
        }
      ]
    },
    {
      "cell_type": "markdown",
      "metadata": {
        "id": "fEvLZfxpFHOe"
      },
      "source": [
        "In the above code we've taken pairs of characters(female and male ) from the same plot . We can also observe that the female charachter of the same plot seems to have a value which is greater than or positive to that of the male charchter ."
      ]
    },
    {
      "cell_type": "code",
      "metadata": {
        "colab": {
          "base_uri": "https://localhost:8080/"
        },
        "id": "cyOZC5CWDBy6",
        "outputId": "4dc2a7cd-9156-4224-f0c9-ef808c5a6114"
      },
      "source": [
        "model.most_similar('doctor')"
      ],
      "execution_count": 56,
      "outputs": [
        {
          "output_type": "execute_result",
          "data": {
            "text/plain": [
              "[('patient', 0.9425493478775024),\n",
              " ('letter', 0.942071795463562),\n",
              " ('body', 0.9367978572845459),\n",
              " ('ghost', 0.9321457147598267),\n",
              " ('girdhari', 0.9271385669708252),\n",
              " ('dumped', 0.9270018935203552),\n",
              " ('heart', 0.9269217848777771),\n",
              " ('name', 0.9235131740570068),\n",
              " ('jobless', 0.920448899269104),\n",
              " ('killer', 0.9196652173995972)]"
            ]
          },
          "metadata": {},
          "execution_count": 56
        }
      ]
    },
    {
      "cell_type": "code",
      "metadata": {
        "id": "aHH93N2P1-cT"
      },
      "source": [
        "professions_and_nouns = ['police','nurse','peasant','postman','boss','professor','assistant','advocate','farmer','merchant','smuggler','director','producer',\n",
        "                         'journalist','editor','thug','mechanic','dancer','industrialist','tycoon','artist','widower','drunkard','engineer',\n",
        "                         'soldier','contractor','retired','inspector','commissioner','superintendent','security','don','writer','alcoholic',\n",
        "                         'software','employee','lawyer','psychiatrist','patient','photographer','teenager','headmaster','student','model',\n",
        "                         'graduate','teacher','scientist','researcher','homemaker','bureaucrat','politician','minister','guards','doctor']"
      ],
      "execution_count": 57,
      "outputs": []
    },
    {
      "cell_type": "markdown",
      "metadata": {
        "id": "fa6_mK3OGESy"
      },
      "source": [
        "We take some common professions and nouns related to profession . In order to neutralize such that they remain equidistant from equality pairs like “he-she\". Technically, what happens is that the projection of the embedding on the bias direction is subtracted from the vector.\n"
      ]
    },
    {
      "cell_type": "markdown",
      "metadata": {
        "id": "nFAQenbTG9om"
      },
      "source": [
        "![1.png](data:image/png;base64,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)"
      ]
    },
    {
      "cell_type": "markdown",
      "metadata": {
        "id": "JBz0P3bHHCCr"
      },
      "source": [
        "[Source](https://towardsdatascience.com/tackling-gender-bias-in-word-embeddings-c965f4076a10)"
      ]
    },
    {
      "cell_type": "markdown",
      "metadata": {
        "id": "lp8tzwq4aaks"
      },
      "source": [
        "$ e^{bias\\_component} = \\frac{e \\cdot g}{||g||_2^2} * g\\tag{1} $"
      ]
    },
    {
      "cell_type": "markdown",
      "metadata": {
        "id": "FVoGTYZyabgk"
      },
      "source": [
        "$ e^{debiased} = e - e^{bias\\_component}\\tag{2} $"
      ]
    },
    {
      "cell_type": "markdown",
      "metadata": {
        "id": "BS0h5BvDogl0"
      },
      "source": [
        "We make a new dictionary(debiased_vocab) to store all the corrected vector values ."
      ]
    },
    {
      "cell_type": "code",
      "metadata": {
        "id": "1_T7zoAUlvkD"
      },
      "source": [
        "debiased_vocab = {}"
      ],
      "execution_count": 58,
      "outputs": []
    },
    {
      "cell_type": "code",
      "metadata": {
        "id": "whiROItgQ6ne"
      },
      "source": [
        "def neutralise(word, g, model, debiased_vocab):\n",
        "    \n",
        "    #model.wv.syn0norm = None\n",
        "    #model.wv.init_sims()\n",
        "    \n",
        "    e = model[word]\n",
        "    \n",
        "    e_biascomponent = (np.dot(e,g)/np.linalg.norm(g, ord=2)**2)*g\n",
        " \n",
        "    e_debiased = e - e_biascomponent\n",
        "\n",
        "    debiased_vocab[word] = e_debiased\n",
        "    \n",
        "    return e_debiased, debiased_vocab\n"
      ],
      "execution_count": 59,
      "outputs": []
    },
    {
      "cell_type": "code",
      "metadata": {
        "colab": {
          "base_uri": "https://localhost:8080/"
        },
        "id": "MvoyABcgVWBV",
        "outputId": "d1e79c27-1aef-4865-9df6-bc61ceb69441"
      },
      "source": [
        "for a in professions_and_nouns:\n",
        "  print(\"cosine similarity between \" + a + \" and g, before neutralising: \", cos_similarity(model[a], g))\n",
        "\n",
        "  e_debiased, debiased_vocab = neutralise( a , g, model, debiased_vocab)\n",
        "  #model.wv.syn0norm[model.wv.vocab[a].index] = e_debiased\n",
        "  print(\"cosine similarity between \" + a + \" and g, after neutralising: \", cos_similarity(e_debiased, g))"
      ],
      "execution_count": 60,
      "outputs": [
        {
          "output_type": "stream",
          "name": "stdout",
          "text": [
            "cosine similarity between police and g, before neutralising:  -0.13825856\n",
            "cosine similarity between police and g, after neutralising:  -1.6809652e-08\n",
            "cosine similarity between nurse and g, before neutralising:  -0.13900845\n",
            "cosine similarity between nurse and g, after neutralising:  0.0\n",
            "cosine similarity between peasant and g, before neutralising:  0.089548536\n",
            "cosine similarity between peasant and g, after neutralising:  -8.5555785e-09\n",
            "cosine similarity between postman and g, before neutralising:  0.075507134\n",
            "cosine similarity between postman and g, after neutralising:  2.1364308e-08\n",
            "cosine similarity between boss and g, before neutralising:  -0.13730301\n",
            "cosine similarity between boss and g, after neutralising:  0.0\n",
            "cosine similarity between professor and g, before neutralising:  0.001377711\n",
            "cosine similarity between professor and g, after neutralising:  0.0\n",
            "cosine similarity between assistant and g, before neutralising:  -0.09671025\n",
            "cosine similarity between assistant and g, after neutralising:  -8.298394e-09\n",
            "cosine similarity between advocate and g, before neutralising:  0.018523017\n",
            "cosine similarity between advocate and g, after neutralising:  3.2825866e-08\n",
            "cosine similarity between farmer and g, before neutralising:  -0.05156896\n",
            "cosine similarity between farmer and g, after neutralising:  2.691235e-08\n",
            "cosine similarity between merchant and g, before neutralising:  -0.028825173\n",
            "cosine similarity between merchant and g, after neutralising:  -3.2819873e-08\n",
            "cosine similarity between smuggler and g, before neutralising:  0.005357675\n",
            "cosine similarity between smuggler and g, after neutralising:  2.9482822e-08\n",
            "cosine similarity between director and g, before neutralising:  -0.058926858\n",
            "cosine similarity between director and g, after neutralising:  -8.41088e-09\n",
            "cosine similarity between producer and g, before neutralising:  -0.03930713\n",
            "cosine similarity between producer and g, after neutralising:  -9.182287e-09\n",
            "cosine similarity between journalist and g, before neutralising:  0.062290143\n",
            "cosine similarity between journalist and g, after neutralising:  0.0\n",
            "cosine similarity between editor and g, before neutralising:  -0.009499039\n",
            "cosine similarity between editor and g, after neutralising:  7.549482e-09\n",
            "cosine similarity between thug and g, before neutralising:  -0.063774824\n",
            "cosine similarity between thug and g, after neutralising:  1.6127116e-08\n",
            "cosine similarity between mechanic and g, before neutralising:  0.028638149\n",
            "cosine similarity between mechanic and g, after neutralising:  -1.2199566e-08\n",
            "cosine similarity between dancer and g, before neutralising:  0.06143217\n",
            "cosine similarity between dancer and g, after neutralising:  7.6111455e-09\n",
            "cosine similarity between industrialist and g, before neutralising:  0.049251165\n",
            "cosine similarity between industrialist and g, after neutralising:  -2.1600423e-08\n",
            "cosine similarity between tycoon and g, before neutralising:  0.03901998\n",
            "cosine similarity between tycoon and g, after neutralising:  2.0618633e-09\n",
            "cosine similarity between artist and g, before neutralising:  0.015115035\n",
            "cosine similarity between artist and g, after neutralising:  2.1922649e-08\n",
            "cosine similarity between widower and g, before neutralising:  0.03818695\n",
            "cosine similarity between widower and g, after neutralising:  1.8467517e-08\n",
            "cosine similarity between drunkard and g, before neutralising:  -0.089693345\n",
            "cosine similarity between drunkard and g, after neutralising:  4.3200245e-08\n",
            "cosine similarity between engineer and g, before neutralising:  0.008146439\n",
            "cosine similarity between engineer and g, after neutralising:  1.1721833e-08\n",
            "cosine similarity between soldier and g, before neutralising:  -0.022848142\n",
            "cosine similarity between soldier and g, after neutralising:  0.0\n",
            "cosine similarity between contractor and g, before neutralising:  0.021879373\n",
            "cosine similarity between contractor and g, after neutralising:  8.840776e-09\n",
            "cosine similarity between retired and g, before neutralising:  -0.02453058\n",
            "cosine similarity between retired and g, after neutralising:  -2.2941574e-08\n",
            "cosine similarity between inspector and g, before neutralising:  -0.15202338\n",
            "cosine similarity between inspector and g, after neutralising:  0.0\n",
            "cosine similarity between commissioner and g, before neutralising:  -0.19184576\n",
            "cosine similarity between commissioner and g, after neutralising:  2.1277307e-08\n",
            "cosine similarity between superintendent and g, before neutralising:  -0.067963906\n",
            "cosine similarity between superintendent and g, after neutralising:  -1.4896897e-08\n",
            "cosine similarity between security and g, before neutralising:  -0.1691384\n",
            "cosine similarity between security and g, after neutralising:  -1.7369574e-08\n",
            "cosine similarity between don and g, before neutralising:  -0.09797428\n",
            "cosine similarity between don and g, after neutralising:  0.0\n",
            "cosine similarity between writer and g, before neutralising:  0.03640212\n",
            "cosine similarity between writer and g, after neutralising:  -8.008116e-09\n",
            "cosine similarity between alcoholic and g, before neutralising:  0.07836471\n",
            "cosine similarity between alcoholic and g, after neutralising:  2.222163e-08\n",
            "cosine similarity between software and g, before neutralising:  0.021126077\n",
            "cosine similarity between software and g, after neutralising:  1.1122926e-08\n",
            "cosine similarity between employee and g, before neutralising:  -0.08386574\n",
            "cosine similarity between employee and g, after neutralising:  6.893612e-09\n",
            "cosine similarity between lawyer and g, before neutralising:  -0.0782085\n",
            "cosine similarity between lawyer and g, after neutralising:  1.9466675e-08\n",
            "cosine similarity between psychiatrist and g, before neutralising:  -0.052060097\n",
            "cosine similarity between psychiatrist and g, after neutralising:  0.0\n",
            "cosine similarity between patient and g, before neutralising:  -0.13330069\n",
            "cosine similarity between patient and g, after neutralising:  -3.5228098e-08\n",
            "cosine similarity between photographer and g, before neutralising:  0.014226158\n",
            "cosine similarity between photographer and g, after neutralising:  -1.2983019e-08\n",
            "cosine similarity between teenager and g, before neutralising:  0.010808124\n",
            "cosine similarity between teenager and g, after neutralising:  1.8698731e-08\n",
            "cosine similarity between headmaster and g, before neutralising:  -0.03878235\n",
            "cosine similarity between headmaster and g, after neutralising:  0.0\n",
            "cosine similarity between student and g, before neutralising:  -0.0053624855\n",
            "cosine similarity between student and g, after neutralising:  1.5255859e-08\n",
            "cosine similarity between model and g, before neutralising:  -0.0020187318\n",
            "cosine similarity between model and g, after neutralising:  0.0\n",
            "cosine similarity between graduate and g, before neutralising:  -0.005178609\n",
            "cosine similarity between graduate and g, after neutralising:  2.7438691e-08\n",
            "cosine similarity between teacher and g, before neutralising:  -0.029524539\n",
            "cosine similarity between teacher and g, after neutralising:  4.151475e-09\n",
            "cosine similarity between scientist and g, before neutralising:  -0.046701204\n",
            "cosine similarity between scientist and g, after neutralising:  -1.39825405e-08\n",
            "cosine similarity between researcher and g, before neutralising:  -0.14350234\n",
            "cosine similarity between researcher and g, after neutralising:  -5.471339e-09\n",
            "cosine similarity between homemaker and g, before neutralising:  0.20194033\n",
            "cosine similarity between homemaker and g, after neutralising:  -5.750583e-09\n",
            "cosine similarity between bureaucrat and g, before neutralising:  0.10668005\n",
            "cosine similarity between bureaucrat and g, after neutralising:  1.0136421e-08\n",
            "cosine similarity between politician and g, before neutralising:  -0.06467669\n",
            "cosine similarity between politician and g, after neutralising:  -8.376173e-09\n",
            "cosine similarity between minister and g, before neutralising:  -0.2644749\n",
            "cosine similarity between minister and g, after neutralising:  -1.0420137e-08\n",
            "cosine similarity between guards and g, before neutralising:  -0.10884371\n",
            "cosine similarity between guards and g, after neutralising:  2.8196371e-08\n",
            "cosine similarity between doctor and g, before neutralising:  -0.14979509\n",
            "cosine similarity between doctor and g, after neutralising:  2.3289271e-08\n"
          ]
        }
      ]
    },
    {
      "cell_type": "markdown",
      "metadata": {
        "id": "tT0RjICwIFJt"
      },
      "source": [
        "To understand syn0norm and its use in the above code, check [this](https://stackoverflow.com/questions/46647945/how-to-manually-change-the-vector-dimensions-of-a-word-in-gensim-word2vec) out ."
      ]
    },
    {
      "cell_type": "markdown",
      "metadata": {
        "id": "NAfiz688dC1B"
      },
      "source": [
        "Now that we've neutralized some of the general professions(nouns) . Let us neutralize the adjectives and verbs ."
      ]
    },
    {
      "cell_type": "code",
      "metadata": {
        "id": "DSBfkTQZdeOH"
      },
      "source": [
        "for count in total_gender_based_words:\n",
        "  e_debiased,debiased_vocab = neutralise(count, g, model, debiased_vocab)"
      ],
      "execution_count": 61,
      "outputs": []
    },
    {
      "cell_type": "code",
      "metadata": {
        "colab": {
          "base_uri": "https://localhost:8080/"
        },
        "id": "krrHiAIcfa5u",
        "outputId": "25f19bdd-4b61-4ed3-d2ad-fbbdc62435a9"
      },
      "source": [
        "len(debiased_vocab)"
      ],
      "execution_count": 62,
      "outputs": [
        {
          "output_type": "execute_result",
          "data": {
            "text/plain": [
              "1334"
            ]
          },
          "metadata": {},
          "execution_count": 62
        }
      ]
    },
    {
      "cell_type": "markdown",
      "metadata": {
        "id": "xsJMS2EueFxD"
      },
      "source": [
        "Now all the verbs and adjectives are neutralised ."
      ]
    },
    {
      "cell_type": "markdown",
      "metadata": {
        "id": "-ypjHNB-JHG-"
      },
      "source": [
        "\n",
        "# Equalising "
      ]
    },
    {
      "cell_type": "markdown",
      "metadata": {
        "id": "rFhtGXY1JPHl"
      },
      "source": [
        "The gender specific terms are equalised or averaged out to have the same vector length . For example, the term doctor should be equidistant to both guy-girl and man-woman."
      ]
    },
    {
      "cell_type": "markdown",
      "metadata": {
        "id": "eZRNip0gLusO"
      },
      "source": [
        "![2.png](data:image/png;base64,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)"
      ]
    },
    {
      "cell_type": "markdown",
      "metadata": {
        "id": "S60mS9f3LvOU"
      },
      "source": [
        "[Source](https://towardsdatascience.com/tackling-gender-bias-in-word-embeddings-c965f4076a10)"
      ]
    },
    {
      "cell_type": "markdown",
      "metadata": {
        "id": "9hd14q3JY-cB"
      },
      "source": [
        "$ \\mu = \\frac{e_{w1} + e_{w2}}{2}\\tag{3} $"
      ]
    },
    {
      "cell_type": "markdown",
      "metadata": {
        "id": "WS9yGmVPbZY-"
      },
      "source": [
        "$\\mu_{B} = \\frac {\\mu \\cdot \\text{bias_axis}}{||\\text{bias_axis}||_2^2} *\\text{bias_axis}\n",
        "\\tag{4\n",
        "}$"
      ]
    },
    {
      "cell_type": "markdown",
      "metadata": {
        "id": "xs-LxW7JbZ9v"
      },
      "source": [
        "$ \\mu_{\\perp} = \\mu - \\mu_{B} \\tag{5} $"
      ]
    },
    {
      "cell_type": "markdown",
      "metadata": {
        "id": "A6jvNsFQba0b"
      },
      "source": [
        "$ e_{w1B} = \\frac {e_{w1} \\cdot \\text{bias_axis}}{||\\text{bias_axis}||_2^2} *\\text{bias_axis}\n",
        "\\tag{6} $"
      ]
    },
    {
      "cell_type": "markdown",
      "metadata": {
        "id": "Q390YitybbpN"
      },
      "source": [
        "$ e_{w2B} = \\frac {e_{w2} \\cdot \\text{bias_axis}}{||\\text{bias_axis}||_2^2} *\\text{bias_axis}\n",
        "\\tag{7} $"
      ]
    },
    {
      "cell_type": "markdown",
      "metadata": {
        "id": "BasweRghbdyI"
      },
      "source": [
        "$ e_{w1B}^{corrected} = \\sqrt{ |{1 - ||\\mu_{\\perp} ||^2_2} |} * \\frac{e_{\\text{w1B}} - \\mu_B} {|(e_{w1} - \\mu_{\\perp}) - \\mu_B)|} \\tag{8} $"
      ]
    },
    {
      "cell_type": "markdown",
      "metadata": {
        "id": "0AmTmZlxbehU"
      },
      "source": [
        "$ e_{w2B}^{corrected} = \\sqrt{ |{1 - ||\\mu_{\\perp} ||^2_2} |} * \\frac{e_{\\text{w2B}} - \\mu_B} {|(e_{w2} - \\mu_{\\perp}) - \\mu_B)|} \\tag{9} $"
      ]
    },
    {
      "cell_type": "markdown",
      "metadata": {
        "id": "gsQRx4t4ce4m"
      },
      "source": [
        "$e_1 = e_{w1B}^{corrected} + \\mu_{\\perp} \\tag{10}$"
      ]
    },
    {
      "cell_type": "markdown",
      "metadata": {
        "id": "9SX1yMz3cf1f"
      },
      "source": [
        "$e_2 = e_{w2B}^{corrected} + \\mu_{\\perp} \\tag{11}$"
      ]
    },
    {
      "cell_type": "code",
      "metadata": {
        "id": "FqWJ_AL6coqZ"
      },
      "source": [
        "def equalise(pair, g , model, debiased_vocab):\n",
        "    \n",
        "    \n",
        "\n",
        "    w1, w2 = pair[0], pair[1] \n",
        "    e_w1, e_w2 = model[pair[0]], model[pair[1]]\n",
        "    \n",
        "    mu = (e_w1+e_w2)/2\n",
        "\n",
        "    mu_B = (np.dot(mu,g)*g/np.linalg.norm(g)**2)\n",
        "    mu_orth = (mu - mu_B)\n",
        "\n",
        "    e_w1B = (np.dot(e_w1,g)*g/np.linalg.norm(g)**2)\n",
        "    e_w2B = (np.dot(e_w2,g)*g/np.linalg.norm(g)**2)\n",
        "        \n",
        "    corrected_e_w1B = np.sqrt(abs(1-np.linalg.norm(mu_orth)**2))*(e_w1B - mu_B)/np.sum(e_w1 - mu_orth - mu_B)\n",
        "    corrected_e_w2B = np.sqrt(abs(1-np.linalg.norm(mu_orth)**2))*(e_w2B - mu_B)/np.sum(e_w2 - mu_orth - mu_B)\n",
        "\n",
        "    e1 = (corrected_e_w1B + mu_orth)\n",
        "    e2 = (corrected_e_w2B + mu_orth)\n",
        "\n",
        "    debiased_vocab[w1] = e1\n",
        "    debiased_vocab[w2] = e2\n",
        "                                                                \n",
        "    \n",
        "    return e1, e2, debiased_vocab"
      ],
      "execution_count": 63,
      "outputs": []
    },
    {
      "cell_type": "code",
      "metadata": {
        "colab": {
          "base_uri": "https://localhost:8080/"
        },
        "id": "wnsUS8R-fbUp",
        "outputId": "97dd454f-5d6c-48bd-d7cc-8f57c72a8564"
      },
      "source": [
        "gender_specific_pair"
      ],
      "execution_count": 64,
      "outputs": [
        {
          "output_type": "execute_result",
          "data": {
            "text/plain": [
              "[['woman', 'man'],\n",
              " ['girl', 'boy'],\n",
              " ['she', 'he'],\n",
              " ['mother', 'father'],\n",
              " ['daughter', 'son'],\n",
              " ['gal', 'guy'],\n",
              " ['female', 'male'],\n",
              " ['her', 'his'],\n",
              " ['herself', 'himself'],\n",
              " ['monastery', 'convent'],\n",
              " ['grandpa', 'grandma'],\n",
              " ['grandsons', 'granddaughters'],\n",
              " ['uncle', 'aunt'],\n",
              " ['wives', 'husbands'],\n",
              " ['boy', 'girl'],\n",
              " ['boys', 'girls'],\n",
              " ['brother', 'sister'],\n",
              " ['brothers', 'sisters'],\n",
              " ['businessman', 'businesswoman'],\n",
              " ['dad', 'mom'],\n",
              " ['father', 'mother'],\n",
              " ['fatherhood', 'motherhood'],\n",
              " ['fathers', 'mothers'],\n",
              " ['gentleman', 'lady'],\n",
              " ['gentlemen', 'ladies'],\n",
              " ['grandfather', 'grandmother'],\n",
              " ['grandson', 'granddaughter'],\n",
              " ['he', 'she'],\n",
              " ['himself', 'herself'],\n",
              " ['his', 'her'],\n",
              " ['king', 'queen'],\n",
              " ['kings', 'queens'],\n",
              " ['male', 'female'],\n",
              " ['males', 'females'],\n",
              " ['man', 'woman'],\n",
              " ['men', 'women'],\n",
              " ['nephew', 'niece'],\n",
              " ['prince', 'princess'],\n",
              " ['son', 'daughter'],\n",
              " ['sons', 'daughters']]"
            ]
          },
          "metadata": {},
          "execution_count": 64
        }
      ]
    },
    {
      "cell_type": "markdown",
      "metadata": {
        "id": "khAvPJeEssy_"
      },
      "source": [
        "The above pairs of words are gender-specific ."
      ]
    },
    {
      "cell_type": "code",
      "metadata": {
        "colab": {
          "base_uri": "https://localhost:8080/"
        },
        "id": "um5--5xPf_1D",
        "outputId": "8257a08f-ba40-48cf-8d2e-398c7c07b4b5"
      },
      "source": [
        "for pair in gender_specific_pair :\n",
        "  print(\"cosine similarities before equalizing:\")\n",
        "  print(\"cosine similarity of\",pair[0], cos_similarity(model[pair[0]],g))\n",
        "  print(\"cosine similarity of\",pair[1], cos_similarity(model[pair[1]],g))\n",
        "\n",
        "  e1, e2, debiased_vocab = equalise(pair, g, model, debiased_vocab)\n",
        "  print(\"cosine similarities after equalizing:\")\n",
        "  print(\"cosine similarity of\",pair[0], cos_similarity(e1 ,g))\n",
        "  print(\"cosine similarity of\",pair[1], cos_similarity(e2 ,g))\n",
        "  print('\\n')\n"
      ],
      "execution_count": 65,
      "outputs": [
        {
          "output_type": "stream",
          "name": "stdout",
          "text": [
            "cosine similarities before equalizing:\n",
            "cosine similarity of woman 0.05370027\n",
            "cosine similarity of man -0.047576845\n",
            "cosine similarities after equalizing:\n",
            "cosine similarity of woman 0.31906733\n",
            "cosine similarity of man 0.31906742\n",
            "\n",
            "\n",
            "cosine similarities before equalizing:\n",
            "cosine similarity of girl 0.13896194\n",
            "cosine similarity of boy 0.030093819\n",
            "cosine similarities after equalizing:\n",
            "cosine similarity of girl 0.2869576\n",
            "cosine similarity of boy 0.28695777\n",
            "\n",
            "\n",
            "cosine similarities before equalizing:\n",
            "cosine similarity of she -0.12038961\n",
            "cosine similarity of he -0.4742341\n",
            "cosine similarities after equalizing:\n",
            "cosine similarity of she 0.89518195\n",
            "cosine similarity of he 0.89518183\n",
            "\n",
            "\n",
            "cosine similarities before equalizing:\n",
            "cosine similarity of mother -0.10955726\n",
            "cosine similarity of father -0.23827395\n",
            "cosine similarities after equalizing:\n",
            "cosine similarity of mother 0.49510834\n",
            "cosine similarity of father 0.49510834\n",
            "\n",
            "\n",
            "cosine similarities before equalizing:\n",
            "cosine similarity of daughter -0.03650331\n",
            "cosine similarity of son -0.12536916\n",
            "cosine similarities after equalizing:\n",
            "cosine similarity of daughter 0.11492574\n",
            "cosine similarity of son 0.11492582\n",
            "\n",
            "\n",
            "cosine similarities before equalizing:\n",
            "cosine similarity of gal 0.0036825708\n",
            "cosine similarity of guy -0.0009687813\n",
            "cosine similarities after equalizing:\n",
            "cosine similarity of gal 0.028205767\n",
            "cosine similarity of guy 0.028205378\n",
            "\n",
            "\n",
            "cosine similarities before equalizing:\n",
            "cosine similarity of female -0.07730065\n",
            "cosine similarity of male -0.030210381\n",
            "cosine similarities after equalizing:\n",
            "cosine similarity of female 0.9526823\n",
            "cosine similarity of male 0.95268375\n",
            "\n",
            "\n",
            "cosine similarities before equalizing:\n",
            "cosine similarity of her -0.055731405\n",
            "cosine similarity of his -0.3604172\n",
            "cosine similarities after equalizing:\n",
            "cosine similarity of her -0.59664077\n",
            "cosine similarity of his -0.59664077\n",
            "\n",
            "\n",
            "cosine similarities before equalizing:\n",
            "cosine similarity of herself -0.054017104\n",
            "cosine similarity of himself -0.109581836\n",
            "cosine similarities after equalizing:\n",
            "cosine similarity of herself 0.1410005\n",
            "cosine similarity of himself 0.14100069\n",
            "\n",
            "\n",
            "cosine similarities before equalizing:\n",
            "cosine similarity of monastery -0.10124331\n",
            "cosine similarity of convent 0.08785857\n",
            "cosine similarities after equalizing:\n",
            "cosine similarity of monastery 0.7154397\n",
            "cosine similarity of convent 0.71543956\n",
            "\n",
            "\n",
            "cosine similarities before equalizing:\n",
            "cosine similarity of grandpa 0.035339914\n",
            "cosine similarity of grandma 0.17142482\n",
            "cosine similarities after equalizing:\n",
            "cosine similarity of grandpa -0.8816033\n",
            "cosine similarity of grandma -0.8816035\n",
            "\n",
            "\n",
            "cosine similarities before equalizing:\n",
            "cosine similarity of grandsons 0.20876145\n",
            "cosine similarity of granddaughters 0.15823652\n",
            "cosine similarities after equalizing:\n",
            "cosine similarity of grandsons 0.46131903\n",
            "cosine similarity of granddaughters 0.46131963\n",
            "\n",
            "\n",
            "cosine similarities before equalizing:\n",
            "cosine similarity of uncle -0.20401125\n",
            "cosine similarity of aunt -1.407735e-05\n",
            "cosine similarities after equalizing:\n",
            "cosine similarity of uncle 0.20258038\n",
            "cosine similarity of aunt 0.20258036\n",
            "\n",
            "\n",
            "cosine similarities before equalizing:\n",
            "cosine similarity of wives -0.01832456\n",
            "cosine similarity of husbands -0.009497898\n",
            "cosine similarities after equalizing:\n",
            "cosine similarity of wives -0.02410317\n",
            "cosine similarity of husbands -0.024103155\n",
            "\n",
            "\n",
            "cosine similarities before equalizing:\n",
            "cosine similarity of boy 0.030093819\n",
            "cosine similarity of girl 0.13896194\n",
            "cosine similarities after equalizing:\n",
            "cosine similarity of boy 0.28695777\n",
            "cosine similarity of girl 0.2869576\n",
            "\n",
            "\n",
            "cosine similarities before equalizing:\n",
            "cosine similarity of boys -0.13088095\n",
            "cosine similarity of girls -0.034794025\n",
            "cosine similarities after equalizing:\n",
            "cosine similarity of boys -0.9306461\n",
            "cosine similarity of girls -0.9306463\n",
            "\n",
            "\n",
            "cosine similarities before equalizing:\n",
            "cosine similarity of brother -0.12714979\n",
            "cosine similarity of sister -0.03859105\n",
            "cosine similarities after equalizing:\n",
            "cosine similarity of brother 0.39364532\n",
            "cosine similarity of sister 0.39364567\n",
            "\n",
            "\n",
            "cosine similarities before equalizing:\n",
            "cosine similarity of brothers 0.092686884\n",
            "cosine similarity of sisters 0.092524484\n",
            "cosine similarities after equalizing:\n",
            "cosine similarity of brothers 0.36244255\n",
            "cosine similarity of sisters 0.36244267\n",
            "\n",
            "\n",
            "cosine similarities before equalizing:\n",
            "cosine similarity of businessman 0.017914549\n",
            "cosine similarity of businesswoman -0.023580493\n",
            "cosine similarities after equalizing:\n",
            "cosine similarity of businessman -0.6619835\n",
            "cosine similarity of businesswoman -0.66198146\n",
            "\n",
            "\n",
            "cosine similarities before equalizing:\n",
            "cosine similarity of dad -0.123036146\n",
            "cosine similarity of mom -0.0018760773\n",
            "cosine similarities after equalizing:\n",
            "cosine similarity of dad 0.155883\n",
            "cosine similarity of mom 0.15588303\n",
            "\n",
            "\n",
            "cosine similarities before equalizing:\n",
            "cosine similarity of father -0.23827395\n",
            "cosine similarity of mother -0.10955726\n",
            "cosine similarities after equalizing:\n",
            "cosine similarity of father 0.49510834\n",
            "cosine similarity of mother 0.49510834\n",
            "\n",
            "\n",
            "cosine similarities before equalizing:\n",
            "cosine similarity of fatherhood 0.09685231\n",
            "cosine similarity of motherhood -0.034454495\n",
            "cosine similarities after equalizing:\n",
            "cosine similarity of fatherhood 0.82457876\n",
            "cosine similarity of motherhood 0.824579\n",
            "\n",
            "\n",
            "cosine similarities before equalizing:\n",
            "cosine similarity of fathers 0.008563483\n",
            "cosine similarity of mothers 0.0079308525\n",
            "cosine similarities after equalizing:\n",
            "cosine similarity of fathers 0.0010536066\n",
            "cosine similarity of mothers 0.0010535842\n",
            "\n",
            "\n",
            "cosine similarities before equalizing:\n",
            "cosine similarity of gentleman -0.02839365\n",
            "cosine similarity of lady -0.044049654\n",
            "cosine similarities after equalizing:\n",
            "cosine similarity of gentleman 0.59071654\n",
            "cosine similarity of lady 0.5907164\n",
            "\n",
            "\n",
            "cosine similarities before equalizing:\n",
            "cosine similarity of gentlemen -0.04250097\n",
            "cosine similarity of ladies 0.06300938\n",
            "cosine similarities after equalizing:\n",
            "cosine similarity of gentlemen 0.12637351\n",
            "cosine similarity of ladies 0.12637365\n",
            "\n",
            "\n",
            "cosine similarities before equalizing:\n",
            "cosine similarity of grandfather -0.17229937\n",
            "cosine similarity of grandmother -0.005606196\n",
            "cosine similarities after equalizing:\n",
            "cosine similarity of grandfather 0.44202423\n",
            "cosine similarity of grandmother 0.44202417\n",
            "\n",
            "\n",
            "cosine similarities before equalizing:\n",
            "cosine similarity of grandson -0.05606341\n",
            "cosine similarity of granddaughter -0.06786515\n",
            "cosine similarities after equalizing:\n",
            "cosine similarity of grandson 0.14734644\n",
            "cosine similarity of granddaughter 0.14734659\n",
            "\n",
            "\n",
            "cosine similarities before equalizing:\n",
            "cosine similarity of he -0.4742341\n",
            "cosine similarity of she -0.12038961\n",
            "cosine similarities after equalizing:\n",
            "cosine similarity of he 0.89518183\n",
            "cosine similarity of she 0.89518195\n",
            "\n",
            "\n",
            "cosine similarities before equalizing:\n",
            "cosine similarity of himself -0.109581836\n",
            "cosine similarity of herself -0.054017104\n",
            "cosine similarities after equalizing:\n",
            "cosine similarity of himself 0.14100069\n",
            "cosine similarity of herself 0.1410005\n",
            "\n",
            "\n",
            "cosine similarities before equalizing:\n",
            "cosine similarity of his -0.3604172\n",
            "cosine similarity of her -0.055731405\n",
            "cosine similarities after equalizing:\n",
            "cosine similarity of his -0.59664077\n",
            "cosine similarity of her -0.59664077\n",
            "\n",
            "\n",
            "cosine similarities before equalizing:\n",
            "cosine similarity of king -0.17543828\n",
            "cosine similarity of queen -0.12911876\n",
            "cosine similarities after equalizing:\n",
            "cosine similarity of king 0.48449236\n",
            "cosine similarity of queen 0.48449203\n",
            "\n",
            "\n",
            "cosine similarities before equalizing:\n",
            "cosine similarity of kings 0.08973503\n",
            "cosine similarity of queens 0.09217025\n",
            "cosine similarities after equalizing:\n",
            "cosine similarity of kings -0.9495437\n",
            "cosine similarity of queens -0.94954395\n",
            "\n",
            "\n",
            "cosine similarities before equalizing:\n",
            "cosine similarity of male -0.030210381\n",
            "cosine similarity of female -0.07730065\n",
            "cosine similarities after equalizing:\n",
            "cosine similarity of male 0.95268375\n",
            "cosine similarity of female 0.9526823\n",
            "\n",
            "\n",
            "cosine similarities before equalizing:\n",
            "cosine similarity of males 0.020734137\n",
            "cosine similarity of females -0.06305387\n",
            "cosine similarities after equalizing:\n",
            "cosine similarity of males 0.43845814\n",
            "cosine similarity of females 0.43845835\n",
            "\n",
            "\n",
            "cosine similarities before equalizing:\n",
            "cosine similarity of man -0.047576845\n",
            "cosine similarity of woman 0.05370027\n",
            "cosine similarities after equalizing:\n",
            "cosine similarity of man 0.31906742\n",
            "cosine similarity of woman 0.31906733\n",
            "\n",
            "\n",
            "cosine similarities before equalizing:\n",
            "cosine similarity of men -0.15888378\n",
            "cosine similarity of women -0.008368518\n",
            "cosine similarities after equalizing:\n",
            "cosine similarity of men 0.16027233\n",
            "cosine similarity of women 0.16027236\n",
            "\n",
            "\n",
            "cosine similarities before equalizing:\n",
            "cosine similarity of nephew -0.08693825\n",
            "cosine similarity of niece -0.032602634\n",
            "cosine similarities after equalizing:\n",
            "cosine similarity of nephew 0.16155298\n",
            "cosine similarity of niece 0.16155267\n",
            "\n",
            "\n",
            "cosine similarities before equalizing:\n",
            "cosine similarity of prince -0.11825437\n",
            "cosine similarity of princess -0.03774279\n",
            "cosine similarities after equalizing:\n",
            "cosine similarity of prince 0.2897137\n",
            "cosine similarity of princess 0.28971347\n",
            "\n",
            "\n",
            "cosine similarities before equalizing:\n",
            "cosine similarity of son -0.12536916\n",
            "cosine similarity of daughter -0.03650331\n",
            "cosine similarities after equalizing:\n",
            "cosine similarity of son 0.11492582\n",
            "cosine similarity of daughter 0.11492574\n",
            "\n",
            "\n",
            "cosine similarities before equalizing:\n",
            "cosine similarity of sons 0.07081344\n",
            "cosine similarity of daughters 0.06155084\n",
            "cosine similarities after equalizing:\n",
            "cosine similarity of sons 0.11269086\n",
            "cosine similarity of daughters 0.11269064\n",
            "\n",
            "\n"
          ]
        }
      ]
    },
    {
      "cell_type": "code",
      "metadata": {
        "colab": {
          "base_uri": "https://localhost:8080/"
        },
        "id": "2h1XXoiOpUWf",
        "outputId": "3045c494-6c21-4296-eded-aecb3df0f9eb"
      },
      "source": [
        "len(debiased_vocab)"
      ],
      "execution_count": 66,
      "outputs": [
        {
          "output_type": "execute_result",
          "data": {
            "text/plain": [
              "1398"
            ]
          },
          "metadata": {},
          "execution_count": 66
        }
      ]
    },
    {
      "cell_type": "code",
      "metadata": {
        "colab": {
          "base_uri": "https://localhost:8080/"
        },
        "id": "Hfb-ItaVm8T1",
        "outputId": "fabb3b63-dbf3-4235-ac0d-32cb1f0ab9a8"
      },
      "source": [
        "cos_similarity(debiased_vocab['woman'], debiased_vocab['police'])"
      ],
      "execution_count": 67,
      "outputs": [
        {
          "output_type": "execute_result",
          "data": {
            "text/plain": [
              "0.2926578"
            ]
          },
          "metadata": {},
          "execution_count": 67
        }
      ]
    },
    {
      "cell_type": "code",
      "metadata": {
        "colab": {
          "base_uri": "https://localhost:8080/"
        },
        "id": "d1rNOcAmTkLd",
        "outputId": "52a23c2c-4aba-4009-c95e-d6f98a3351c5"
      },
      "source": [
        "cos_similarity(debiased_vocab['man'], debiased_vocab['police'])  "
      ],
      "execution_count": 68,
      "outputs": [
        {
          "output_type": "execute_result",
          "data": {
            "text/plain": [
              "0.2926578"
            ]
          },
          "metadata": {},
          "execution_count": 68
        }
      ]
    },
    {
      "cell_type": "code",
      "metadata": {
        "colab": {
          "base_uri": "https://localhost:8080/"
        },
        "id": "3Ud2IufCo6wk",
        "outputId": "6af77da4-f8bf-4d61-d08e-f2473aeb57b6"
      },
      "source": [
        "cos_similarity(debiased_vocab['gal'], debiased_vocab['nurse'])"
      ],
      "execution_count": 69,
      "outputs": [
        {
          "output_type": "execute_result",
          "data": {
            "text/plain": [
              "0.92939633"
            ]
          },
          "metadata": {},
          "execution_count": 69
        }
      ]
    },
    {
      "cell_type": "code",
      "metadata": {
        "colab": {
          "base_uri": "https://localhost:8080/"
        },
        "id": "oebu9mOPpDs6",
        "outputId": "7e301847-c219-40dd-eb53-8b3d08ccd77e"
      },
      "source": [
        "cos_similarity(debiased_vocab['guy'], debiased_vocab['nurse'])"
      ],
      "execution_count": 70,
      "outputs": [
        {
          "output_type": "execute_result",
          "data": {
            "text/plain": [
              "0.92939633"
            ]
          },
          "metadata": {},
          "execution_count": 70
        }
      ]
    },
    {
      "cell_type": "code",
      "metadata": {
        "colab": {
          "base_uri": "https://localhost:8080/"
        },
        "id": "9SUzisdnsZ8o",
        "outputId": "a16a3988-5f14-475f-b8a2-f888d733396a"
      },
      "source": [
        "cos_similarity(debiased_vocab['herself'], debiased_vocab['pretty'])"
      ],
      "execution_count": 71,
      "outputs": [
        {
          "output_type": "execute_result",
          "data": {
            "text/plain": [
              "0.88319236"
            ]
          },
          "metadata": {},
          "execution_count": 71
        }
      ]
    },
    {
      "cell_type": "code",
      "metadata": {
        "colab": {
          "base_uri": "https://localhost:8080/"
        },
        "id": "_DBemJEhsacf",
        "outputId": "3eb03821-f4a7-4799-e58d-576ade071563"
      },
      "source": [
        "cos_similarity(debiased_vocab['himself'], debiased_vocab['pretty'])"
      ],
      "execution_count": 72,
      "outputs": [
        {
          "output_type": "execute_result",
          "data": {
            "text/plain": [
              "0.8831923"
            ]
          },
          "metadata": {},
          "execution_count": 72
        }
      ]
    },
    {
      "cell_type": "markdown",
      "metadata": {
        "id": "X5nXotD32P7e"
      },
      "source": [
        "Great, we have removed bias from the plot. "
      ]
    },
    {
      "cell_type": "markdown",
      "metadata": {
        "id": "PUQq5PbAqAPK"
      },
      "source": [
        "# Conclusion"
      ]
    },
    {
      "cell_type": "markdown",
      "metadata": {
        "id": "dADozXS3qFav"
      },
      "source": [
        "We took the bollywood dataset, cleaned and tokenized it. Then, applied word2vec on the corpus/tokens . Seperated the gender-specific words , gender stereotyped professions and the adjectives or verbs which were predominately used in association with male or female . We neutralized the gender stereotyped professions and the adjectives / verbs . And equalized the gender-specific terms. Finally, we observed the cosine similarity between a couple of gender-stereotyped professions and gender-specific words to be similar. Hence , we've succeeded in removing plenty of bias ."
      ]
    }
  ]
}